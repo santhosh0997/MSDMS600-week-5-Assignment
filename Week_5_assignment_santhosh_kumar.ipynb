{
 "cells": [
  {
   "cell_type": "markdown",
   "id": "165166dd",
   "metadata": {},
   "source": [
    "# DS Automation Assignment"
   ]
  },
  {
   "cell_type": "markdown",
   "id": "c195af74",
   "metadata": {},
   "source": [
    "Using our prepared churn data from week 2:\n",
    "- use pycaret to find an ML algorithm that performs best on the data\n",
    "    - Choose a metric you think is best to use for finding the best model; by default, it is accuracy but it could be AUC, precision, recall, etc. The week 3 FTE has some information on these different metrics.\n",
    "- save the model to disk\n",
    "- create a Python script/file/module with a function that takes a pandas dataframe as an input and returns the probability of churn for each row in the dataframe\n",
    "    - your Python file/function should print out the predictions for new data (new_churn_data.csv)\n",
    "    - the true values for the new data are [1, 0, 0, 1, 0] if you're interested\n",
    "- test your Python module and function with the new data, new_churn_data.csv\n",
    "- write a short summary of the process and results at the end of this notebook\n",
    "- upload this Jupyter Notebook and Python file to a Github repository, and turn in a link to the repository in the week 5 assignment dropbox\n",
    "\n",
    "*Optional* challenges:\n",
    "- return the probability of churn for each new prediction, and the percentile where that prediction is in the distribution of probability predictions from the training dataset (e.g. a high probability of churn like 0.78 might be at the 90th percentile)\n",
    "- use other autoML packages, such as TPOT, H2O, MLBox, etc, and compare performance and features with pycaret\n",
    "- create a class in your Python module to hold the functions that you created\n",
    "- accept user input to specify a file using a tool such as Python's `input()` function, the `click` package for command-line arguments, or a GUI\n",
    "- Use the unmodified churn data (new_unmodified_churn_data.csv) in your Python script. This will require adding the same preprocessing steps from week 2 since this data is like the original unmodified dataset from week 1."
   ]
  },
  {
   "cell_type": "markdown",
   "id": "3e219cba-d5b3-416a-83b5-7830cacc2ef3",
   "metadata": {},
   "source": [
    "# Load data:\n",
    "\n",
    "we are going to use **pycaret** module for Data Science Automation. Pycaret only supports upto python 3.10 version, but current version is 3.11. So, to avoid difficulties while running, so we have create a new environment with python 3.10.\n",
    "\n",
    "We can confirm python version by \"python --version\" in command prompt."
   ]
  },
  {
   "cell_type": "code",
   "execution_count": 40,
   "id": "fbbe18dc-dc60-40f5-9819-a290dfe7b5db",
   "metadata": {},
   "outputs": [
    {
     "name": "stdout",
     "output_type": "stream",
     "text": [
      "Python 3.10.13\n"
     ]
    }
   ],
   "source": [
    "!python --version"
   ]
  },
  {
   "cell_type": "code",
   "execution_count": 41,
   "id": "6a2d1d7e-54ea-4923-a0f6-80a55e3ac4a2",
   "metadata": {},
   "outputs": [],
   "source": [
    "#!pip install pycaret"
   ]
  },
  {
   "cell_type": "markdown",
   "id": "685b89dd-b0da-4476-8ef7-983467f8c9fe",
   "metadata": {},
   "source": [
    "**Installing all the required libraries using import command.**\n",
    "\n",
    "Machine learning workflows can be automated with PyCaret, an open-source, low-code Python machine learning framework.\n",
    "\n",
    "PyCaret's Classification Module is a supervised machine learning module that is used for classifying elements into groups."
   ]
  },
  {
   "cell_type": "code",
   "execution_count": 42,
   "id": "476ed965",
   "metadata": {},
   "outputs": [],
   "source": [
    "import pandas as pd\n",
    "from pycaret.classification import ClassificationExperiment \n"
   ]
  },
  {
   "cell_type": "markdown",
   "id": "9cefe8cf-3df8-4215-9002-454904435a58",
   "metadata": {},
   "source": [
    "\n",
    "We load the data using **pandas** module of python. Here, the data given is in csv file. so, we used read_csv function to load the data into the notebook.Pandas is python library which consists of functions and attributes used for data manipulation, data handling, numeric analysis and also data cleaning.\n",
    "\n",
    "The loaded data can be viewed by calling variable given to loaded dataframe.\n",
    "\n",
    "we are using the prepared churn data from the week-2."
   ]
  },
  {
   "cell_type": "code",
   "execution_count": 43,
   "id": "f57b37fb-70bd-4a67-9749-829f7f6929f5",
   "metadata": {},
   "outputs": [
    {
     "data": {
      "text/html": [
       "<div>\n",
       "<style scoped>\n",
       "    .dataframe tbody tr th:only-of-type {\n",
       "        vertical-align: middle;\n",
       "    }\n",
       "\n",
       "    .dataframe tbody tr th {\n",
       "        vertical-align: top;\n",
       "    }\n",
       "\n",
       "    .dataframe thead th {\n",
       "        text-align: right;\n",
       "    }\n",
       "</style>\n",
       "<table border=\"1\" class=\"dataframe\">\n",
       "  <thead>\n",
       "    <tr style=\"text-align: right;\">\n",
       "      <th></th>\n",
       "      <th>tenure</th>\n",
       "      <th>PhoneService</th>\n",
       "      <th>Contract</th>\n",
       "      <th>PaymentMethod</th>\n",
       "      <th>MonthlyCharges</th>\n",
       "      <th>TotalCharges</th>\n",
       "      <th>Churn</th>\n",
       "      <th>charge_per_tenure</th>\n",
       "    </tr>\n",
       "    <tr>\n",
       "      <th>customerID</th>\n",
       "      <th></th>\n",
       "      <th></th>\n",
       "      <th></th>\n",
       "      <th></th>\n",
       "      <th></th>\n",
       "      <th></th>\n",
       "      <th></th>\n",
       "      <th></th>\n",
       "    </tr>\n",
       "  </thead>\n",
       "  <tbody>\n",
       "    <tr>\n",
       "      <th>7590-VHVEG</th>\n",
       "      <td>1.0</td>\n",
       "      <td>0</td>\n",
       "      <td>0</td>\n",
       "      <td>3</td>\n",
       "      <td>29.85</td>\n",
       "      <td>29.85</td>\n",
       "      <td>0</td>\n",
       "      <td>29.850000</td>\n",
       "    </tr>\n",
       "    <tr>\n",
       "      <th>5575-GNVDE</th>\n",
       "      <td>34.0</td>\n",
       "      <td>1</td>\n",
       "      <td>1</td>\n",
       "      <td>2</td>\n",
       "      <td>56.95</td>\n",
       "      <td>1889.50</td>\n",
       "      <td>0</td>\n",
       "      <td>55.573529</td>\n",
       "    </tr>\n",
       "    <tr>\n",
       "      <th>3668-QPYBK</th>\n",
       "      <td>2.0</td>\n",
       "      <td>1</td>\n",
       "      <td>0</td>\n",
       "      <td>2</td>\n",
       "      <td>53.85</td>\n",
       "      <td>108.15</td>\n",
       "      <td>1</td>\n",
       "      <td>54.075000</td>\n",
       "    </tr>\n",
       "    <tr>\n",
       "      <th>7795-CFOCW</th>\n",
       "      <td>45.0</td>\n",
       "      <td>0</td>\n",
       "      <td>1</td>\n",
       "      <td>1</td>\n",
       "      <td>42.30</td>\n",
       "      <td>1840.75</td>\n",
       "      <td>0</td>\n",
       "      <td>40.905556</td>\n",
       "    </tr>\n",
       "    <tr>\n",
       "      <th>9237-HQITU</th>\n",
       "      <td>2.0</td>\n",
       "      <td>1</td>\n",
       "      <td>0</td>\n",
       "      <td>3</td>\n",
       "      <td>70.70</td>\n",
       "      <td>151.65</td>\n",
       "      <td>1</td>\n",
       "      <td>75.825000</td>\n",
       "    </tr>\n",
       "    <tr>\n",
       "      <th>...</th>\n",
       "      <td>...</td>\n",
       "      <td>...</td>\n",
       "      <td>...</td>\n",
       "      <td>...</td>\n",
       "      <td>...</td>\n",
       "      <td>...</td>\n",
       "      <td>...</td>\n",
       "      <td>...</td>\n",
       "    </tr>\n",
       "    <tr>\n",
       "      <th>6840-RESVB</th>\n",
       "      <td>24.0</td>\n",
       "      <td>1</td>\n",
       "      <td>1</td>\n",
       "      <td>2</td>\n",
       "      <td>84.80</td>\n",
       "      <td>1990.50</td>\n",
       "      <td>0</td>\n",
       "      <td>82.937500</td>\n",
       "    </tr>\n",
       "    <tr>\n",
       "      <th>2234-XADUH</th>\n",
       "      <td>72.0</td>\n",
       "      <td>1</td>\n",
       "      <td>1</td>\n",
       "      <td>0</td>\n",
       "      <td>103.20</td>\n",
       "      <td>7362.90</td>\n",
       "      <td>0</td>\n",
       "      <td>102.262500</td>\n",
       "    </tr>\n",
       "    <tr>\n",
       "      <th>4801-JZAZL</th>\n",
       "      <td>11.0</td>\n",
       "      <td>0</td>\n",
       "      <td>0</td>\n",
       "      <td>3</td>\n",
       "      <td>29.60</td>\n",
       "      <td>346.45</td>\n",
       "      <td>0</td>\n",
       "      <td>31.495455</td>\n",
       "    </tr>\n",
       "    <tr>\n",
       "      <th>8361-LTMKD</th>\n",
       "      <td>4.0</td>\n",
       "      <td>1</td>\n",
       "      <td>0</td>\n",
       "      <td>2</td>\n",
       "      <td>74.40</td>\n",
       "      <td>306.60</td>\n",
       "      <td>1</td>\n",
       "      <td>76.650000</td>\n",
       "    </tr>\n",
       "    <tr>\n",
       "      <th>3186-AJIEK</th>\n",
       "      <td>66.0</td>\n",
       "      <td>1</td>\n",
       "      <td>2</td>\n",
       "      <td>1</td>\n",
       "      <td>105.65</td>\n",
       "      <td>6844.50</td>\n",
       "      <td>0</td>\n",
       "      <td>103.704545</td>\n",
       "    </tr>\n",
       "  </tbody>\n",
       "</table>\n",
       "<p>7043 rows × 8 columns</p>\n",
       "</div>"
      ],
      "text/plain": [
       "            tenure  PhoneService  Contract  PaymentMethod  MonthlyCharges  \\\n",
       "customerID                                                                  \n",
       "7590-VHVEG     1.0             0         0              3           29.85   \n",
       "5575-GNVDE    34.0             1         1              2           56.95   \n",
       "3668-QPYBK     2.0             1         0              2           53.85   \n",
       "7795-CFOCW    45.0             0         1              1           42.30   \n",
       "9237-HQITU     2.0             1         0              3           70.70   \n",
       "...            ...           ...       ...            ...             ...   \n",
       "6840-RESVB    24.0             1         1              2           84.80   \n",
       "2234-XADUH    72.0             1         1              0          103.20   \n",
       "4801-JZAZL    11.0             0         0              3           29.60   \n",
       "8361-LTMKD     4.0             1         0              2           74.40   \n",
       "3186-AJIEK    66.0             1         2              1          105.65   \n",
       "\n",
       "            TotalCharges  Churn  charge_per_tenure  \n",
       "customerID                                          \n",
       "7590-VHVEG         29.85      0          29.850000  \n",
       "5575-GNVDE       1889.50      0          55.573529  \n",
       "3668-QPYBK        108.15      1          54.075000  \n",
       "7795-CFOCW       1840.75      0          40.905556  \n",
       "9237-HQITU        151.65      1          75.825000  \n",
       "...                  ...    ...                ...  \n",
       "6840-RESVB       1990.50      0          82.937500  \n",
       "2234-XADUH       7362.90      0         102.262500  \n",
       "4801-JZAZL        346.45      0          31.495455  \n",
       "8361-LTMKD        306.60      1          76.650000  \n",
       "3186-AJIEK       6844.50      0         103.704545  \n",
       "\n",
       "[7043 rows x 8 columns]"
      ]
     },
     "execution_count": 43,
     "metadata": {},
     "output_type": "execute_result"
    }
   ],
   "source": [
    "df = pd.read_csv(r\"C:\\Users\\santh\\Downloads\\prepared_churn_data.csv\",index_col = 'customerID')\n",
    "df"
   ]
  },
  {
   "cell_type": "code",
   "execution_count": 44,
   "id": "444166b3-1031-4a33-9e8a-dfedb13a2279",
   "metadata": {},
   "outputs": [
    {
     "data": {
      "text/html": [
       "<div>\n",
       "<style scoped>\n",
       "    .dataframe tbody tr th:only-of-type {\n",
       "        vertical-align: middle;\n",
       "    }\n",
       "\n",
       "    .dataframe tbody tr th {\n",
       "        vertical-align: top;\n",
       "    }\n",
       "\n",
       "    .dataframe thead th {\n",
       "        text-align: right;\n",
       "    }\n",
       "</style>\n",
       "<table border=\"1\" class=\"dataframe\">\n",
       "  <thead>\n",
       "    <tr style=\"text-align: right;\">\n",
       "      <th></th>\n",
       "      <th>tenure</th>\n",
       "      <th>PhoneService</th>\n",
       "      <th>Contract</th>\n",
       "      <th>PaymentMethod</th>\n",
       "      <th>MonthlyCharges</th>\n",
       "      <th>TotalCharges</th>\n",
       "      <th>Churn</th>\n",
       "      <th>charge_per_tenure</th>\n",
       "    </tr>\n",
       "    <tr>\n",
       "      <th>customerID</th>\n",
       "      <th></th>\n",
       "      <th></th>\n",
       "      <th></th>\n",
       "      <th></th>\n",
       "      <th></th>\n",
       "      <th></th>\n",
       "      <th></th>\n",
       "      <th></th>\n",
       "    </tr>\n",
       "  </thead>\n",
       "  <tbody>\n",
       "    <tr>\n",
       "      <th>3806-YAZOV</th>\n",
       "      <td>3.0</td>\n",
       "      <td>1</td>\n",
       "      <td>0</td>\n",
       "      <td>2</td>\n",
       "      <td>18.80</td>\n",
       "      <td>56.00</td>\n",
       "      <td>0</td>\n",
       "      <td>18.666667</td>\n",
       "    </tr>\n",
       "    <tr>\n",
       "      <th>5680-LQOGP</th>\n",
       "      <td>68.0</td>\n",
       "      <td>1</td>\n",
       "      <td>2</td>\n",
       "      <td>0</td>\n",
       "      <td>82.45</td>\n",
       "      <td>5646.60</td>\n",
       "      <td>0</td>\n",
       "      <td>83.038235</td>\n",
       "    </tr>\n",
       "    <tr>\n",
       "      <th>5692-FPTAH</th>\n",
       "      <td>1.0</td>\n",
       "      <td>1</td>\n",
       "      <td>0</td>\n",
       "      <td>2</td>\n",
       "      <td>45.40</td>\n",
       "      <td>45.40</td>\n",
       "      <td>1</td>\n",
       "      <td>45.400000</td>\n",
       "    </tr>\n",
       "    <tr>\n",
       "      <th>7159-FVYPK</th>\n",
       "      <td>3.0</td>\n",
       "      <td>1</td>\n",
       "      <td>0</td>\n",
       "      <td>1</td>\n",
       "      <td>69.15</td>\n",
       "      <td>235.00</td>\n",
       "      <td>0</td>\n",
       "      <td>78.333333</td>\n",
       "    </tr>\n",
       "    <tr>\n",
       "      <th>8158-WPEZG</th>\n",
       "      <td>11.0</td>\n",
       "      <td>0</td>\n",
       "      <td>0</td>\n",
       "      <td>3</td>\n",
       "      <td>35.65</td>\n",
       "      <td>425.10</td>\n",
       "      <td>0</td>\n",
       "      <td>38.645455</td>\n",
       "    </tr>\n",
       "    <tr>\n",
       "      <th>4355-CVPVS</th>\n",
       "      <td>56.0</td>\n",
       "      <td>1</td>\n",
       "      <td>1</td>\n",
       "      <td>1</td>\n",
       "      <td>88.90</td>\n",
       "      <td>4968.00</td>\n",
       "      <td>0</td>\n",
       "      <td>88.714286</td>\n",
       "    </tr>\n",
       "    <tr>\n",
       "      <th>2433-KMEAS</th>\n",
       "      <td>22.0</td>\n",
       "      <td>1</td>\n",
       "      <td>0</td>\n",
       "      <td>3</td>\n",
       "      <td>54.45</td>\n",
       "      <td>1127.35</td>\n",
       "      <td>1</td>\n",
       "      <td>51.243182</td>\n",
       "    </tr>\n",
       "    <tr>\n",
       "      <th>6896-SRVYQ</th>\n",
       "      <td>44.0</td>\n",
       "      <td>1</td>\n",
       "      <td>0</td>\n",
       "      <td>3</td>\n",
       "      <td>73.85</td>\n",
       "      <td>3122.40</td>\n",
       "      <td>0</td>\n",
       "      <td>70.963636</td>\n",
       "    </tr>\n",
       "    <tr>\n",
       "      <th>5170-PTRKA</th>\n",
       "      <td>49.0</td>\n",
       "      <td>0</td>\n",
       "      <td>1</td>\n",
       "      <td>0</td>\n",
       "      <td>35.80</td>\n",
       "      <td>1782.00</td>\n",
       "      <td>0</td>\n",
       "      <td>36.367347</td>\n",
       "    </tr>\n",
       "    <tr>\n",
       "      <th>9488-FVZCC</th>\n",
       "      <td>72.0</td>\n",
       "      <td>1</td>\n",
       "      <td>2</td>\n",
       "      <td>1</td>\n",
       "      <td>79.50</td>\n",
       "      <td>5661.70</td>\n",
       "      <td>0</td>\n",
       "      <td>78.634722</td>\n",
       "    </tr>\n",
       "  </tbody>\n",
       "</table>\n",
       "</div>"
      ],
      "text/plain": [
       "            tenure  PhoneService  Contract  PaymentMethod  MonthlyCharges  \\\n",
       "customerID                                                                  \n",
       "3806-YAZOV     3.0             1         0              2           18.80   \n",
       "5680-LQOGP    68.0             1         2              0           82.45   \n",
       "5692-FPTAH     1.0             1         0              2           45.40   \n",
       "7159-FVYPK     3.0             1         0              1           69.15   \n",
       "8158-WPEZG    11.0             0         0              3           35.65   \n",
       "4355-CVPVS    56.0             1         1              1           88.90   \n",
       "2433-KMEAS    22.0             1         0              3           54.45   \n",
       "6896-SRVYQ    44.0             1         0              3           73.85   \n",
       "5170-PTRKA    49.0             0         1              0           35.80   \n",
       "9488-FVZCC    72.0             1         2              1           79.50   \n",
       "\n",
       "            TotalCharges  Churn  charge_per_tenure  \n",
       "customerID                                          \n",
       "3806-YAZOV         56.00      0          18.666667  \n",
       "5680-LQOGP       5646.60      0          83.038235  \n",
       "5692-FPTAH         45.40      1          45.400000  \n",
       "7159-FVYPK        235.00      0          78.333333  \n",
       "8158-WPEZG        425.10      0          38.645455  \n",
       "4355-CVPVS       4968.00      0          88.714286  \n",
       "2433-KMEAS       1127.35      1          51.243182  \n",
       "6896-SRVYQ       3122.40      0          70.963636  \n",
       "5170-PTRKA       1782.00      0          36.367347  \n",
       "9488-FVZCC       5661.70      0          78.634722  "
      ]
     },
     "execution_count": 44,
     "metadata": {},
     "output_type": "execute_result"
    }
   ],
   "source": [
    "df.sample(10)"
   ]
  },
  {
   "cell_type": "markdown",
   "id": "7e830cea-433d-425c-abea-a29e04a5da54",
   "metadata": {},
   "source": [
    "Using **df.info()**, we can verify that the loaded data is still in the correct format and has no missing values."
   ]
  },
  {
   "cell_type": "code",
   "execution_count": 45,
   "id": "2eb8a8a8-a3d4-486c-ac46-c2abd3c30861",
   "metadata": {},
   "outputs": [
    {
     "name": "stdout",
     "output_type": "stream",
     "text": [
      "<class 'pandas.core.frame.DataFrame'>\n",
      "Index: 7043 entries, 7590-VHVEG to 3186-AJIEK\n",
      "Data columns (total 8 columns):\n",
      " #   Column             Non-Null Count  Dtype  \n",
      "---  ------             --------------  -----  \n",
      " 0   tenure             7043 non-null   float64\n",
      " 1   PhoneService       7043 non-null   int64  \n",
      " 2   Contract           7043 non-null   int64  \n",
      " 3   PaymentMethod      7043 non-null   int64  \n",
      " 4   MonthlyCharges     7043 non-null   float64\n",
      " 5   TotalCharges       7043 non-null   float64\n",
      " 6   Churn              7043 non-null   int64  \n",
      " 7   charge_per_tenure  7043 non-null   float64\n",
      "dtypes: float64(4), int64(4)\n",
      "memory usage: 495.2+ KB\n"
     ]
    }
   ],
   "source": [
    "df.info()"
   ]
  },
  {
   "cell_type": "markdown",
   "id": "e514d5f0-4e52-4089-b34c-005d3a1223cc",
   "metadata": {},
   "source": [
    "# Creating automl using pycaret:\n",
    "\n",
    "Using cross-validation, the ClassificationExperiment function trains and assesses the effectiveness of every estimator in the model library. This function provides a score grid with average cross-validated scores as its output. The get_metrics function can be used to get metrics that are examined during CV.\n",
    "\n",
    "we create ds automation using ClassificationExperiment()"
   ]
  },
  {
   "cell_type": "code",
   "execution_count": 46,
   "id": "5f399fc0-d2d1-4eaa-a510-65054737fc7e",
   "metadata": {},
   "outputs": [],
   "source": [
    "automl = ClassificationExperiment()"
   ]
  },
  {
   "cell_type": "markdown",
   "id": "807148ab-0023-4b57-bc1e-8a2e0ec0937a",
   "metadata": {},
   "source": [
    "setup function initializes the experiment in PyCaret and creates the transformation pipeline based on all the parameters passed in the function. It takes two required parameters: data and target. \n",
    "\n",
    "Here, data is our dataframe(df) and target is 'Churn'"
   ]
  },
  {
   "cell_type": "code",
   "execution_count": 47,
   "id": "3a92e5a9-a0f7-4724-9e0a-9af153bfb90f",
   "metadata": {},
   "outputs": [
    {
     "data": {
      "text/html": [
       "<style type=\"text/css\">\n",
       "#T_524c6_row8_col1 {\n",
       "  background-color: lightgreen;\n",
       "}\n",
       "</style>\n",
       "<table id=\"T_524c6\">\n",
       "  <thead>\n",
       "    <tr>\n",
       "      <th class=\"blank level0\" >&nbsp;</th>\n",
       "      <th id=\"T_524c6_level0_col0\" class=\"col_heading level0 col0\" >Description</th>\n",
       "      <th id=\"T_524c6_level0_col1\" class=\"col_heading level0 col1\" >Value</th>\n",
       "    </tr>\n",
       "  </thead>\n",
       "  <tbody>\n",
       "    <tr>\n",
       "      <th id=\"T_524c6_level0_row0\" class=\"row_heading level0 row0\" >0</th>\n",
       "      <td id=\"T_524c6_row0_col0\" class=\"data row0 col0\" >Session id</td>\n",
       "      <td id=\"T_524c6_row0_col1\" class=\"data row0 col1\" >5189</td>\n",
       "    </tr>\n",
       "    <tr>\n",
       "      <th id=\"T_524c6_level0_row1\" class=\"row_heading level0 row1\" >1</th>\n",
       "      <td id=\"T_524c6_row1_col0\" class=\"data row1 col0\" >Target</td>\n",
       "      <td id=\"T_524c6_row1_col1\" class=\"data row1 col1\" >Churn</td>\n",
       "    </tr>\n",
       "    <tr>\n",
       "      <th id=\"T_524c6_level0_row2\" class=\"row_heading level0 row2\" >2</th>\n",
       "      <td id=\"T_524c6_row2_col0\" class=\"data row2 col0\" >Target type</td>\n",
       "      <td id=\"T_524c6_row2_col1\" class=\"data row2 col1\" >Binary</td>\n",
       "    </tr>\n",
       "    <tr>\n",
       "      <th id=\"T_524c6_level0_row3\" class=\"row_heading level0 row3\" >3</th>\n",
       "      <td id=\"T_524c6_row3_col0\" class=\"data row3 col0\" >Original data shape</td>\n",
       "      <td id=\"T_524c6_row3_col1\" class=\"data row3 col1\" >(7043, 8)</td>\n",
       "    </tr>\n",
       "    <tr>\n",
       "      <th id=\"T_524c6_level0_row4\" class=\"row_heading level0 row4\" >4</th>\n",
       "      <td id=\"T_524c6_row4_col0\" class=\"data row4 col0\" >Transformed data shape</td>\n",
       "      <td id=\"T_524c6_row4_col1\" class=\"data row4 col1\" >(7043, 8)</td>\n",
       "    </tr>\n",
       "    <tr>\n",
       "      <th id=\"T_524c6_level0_row5\" class=\"row_heading level0 row5\" >5</th>\n",
       "      <td id=\"T_524c6_row5_col0\" class=\"data row5 col0\" >Transformed train set shape</td>\n",
       "      <td id=\"T_524c6_row5_col1\" class=\"data row5 col1\" >(4930, 8)</td>\n",
       "    </tr>\n",
       "    <tr>\n",
       "      <th id=\"T_524c6_level0_row6\" class=\"row_heading level0 row6\" >6</th>\n",
       "      <td id=\"T_524c6_row6_col0\" class=\"data row6 col0\" >Transformed test set shape</td>\n",
       "      <td id=\"T_524c6_row6_col1\" class=\"data row6 col1\" >(2113, 8)</td>\n",
       "    </tr>\n",
       "    <tr>\n",
       "      <th id=\"T_524c6_level0_row7\" class=\"row_heading level0 row7\" >7</th>\n",
       "      <td id=\"T_524c6_row7_col0\" class=\"data row7 col0\" >Numeric features</td>\n",
       "      <td id=\"T_524c6_row7_col1\" class=\"data row7 col1\" >7</td>\n",
       "    </tr>\n",
       "    <tr>\n",
       "      <th id=\"T_524c6_level0_row8\" class=\"row_heading level0 row8\" >8</th>\n",
       "      <td id=\"T_524c6_row8_col0\" class=\"data row8 col0\" >Preprocess</td>\n",
       "      <td id=\"T_524c6_row8_col1\" class=\"data row8 col1\" >True</td>\n",
       "    </tr>\n",
       "    <tr>\n",
       "      <th id=\"T_524c6_level0_row9\" class=\"row_heading level0 row9\" >9</th>\n",
       "      <td id=\"T_524c6_row9_col0\" class=\"data row9 col0\" >Imputation type</td>\n",
       "      <td id=\"T_524c6_row9_col1\" class=\"data row9 col1\" >simple</td>\n",
       "    </tr>\n",
       "    <tr>\n",
       "      <th id=\"T_524c6_level0_row10\" class=\"row_heading level0 row10\" >10</th>\n",
       "      <td id=\"T_524c6_row10_col0\" class=\"data row10 col0\" >Numeric imputation</td>\n",
       "      <td id=\"T_524c6_row10_col1\" class=\"data row10 col1\" >mean</td>\n",
       "    </tr>\n",
       "    <tr>\n",
       "      <th id=\"T_524c6_level0_row11\" class=\"row_heading level0 row11\" >11</th>\n",
       "      <td id=\"T_524c6_row11_col0\" class=\"data row11 col0\" >Categorical imputation</td>\n",
       "      <td id=\"T_524c6_row11_col1\" class=\"data row11 col1\" >mode</td>\n",
       "    </tr>\n",
       "    <tr>\n",
       "      <th id=\"T_524c6_level0_row12\" class=\"row_heading level0 row12\" >12</th>\n",
       "      <td id=\"T_524c6_row12_col0\" class=\"data row12 col0\" >Fold Generator</td>\n",
       "      <td id=\"T_524c6_row12_col1\" class=\"data row12 col1\" >StratifiedKFold</td>\n",
       "    </tr>\n",
       "    <tr>\n",
       "      <th id=\"T_524c6_level0_row13\" class=\"row_heading level0 row13\" >13</th>\n",
       "      <td id=\"T_524c6_row13_col0\" class=\"data row13 col0\" >Fold Number</td>\n",
       "      <td id=\"T_524c6_row13_col1\" class=\"data row13 col1\" >10</td>\n",
       "    </tr>\n",
       "    <tr>\n",
       "      <th id=\"T_524c6_level0_row14\" class=\"row_heading level0 row14\" >14</th>\n",
       "      <td id=\"T_524c6_row14_col0\" class=\"data row14 col0\" >CPU Jobs</td>\n",
       "      <td id=\"T_524c6_row14_col1\" class=\"data row14 col1\" >-1</td>\n",
       "    </tr>\n",
       "    <tr>\n",
       "      <th id=\"T_524c6_level0_row15\" class=\"row_heading level0 row15\" >15</th>\n",
       "      <td id=\"T_524c6_row15_col0\" class=\"data row15 col0\" >Use GPU</td>\n",
       "      <td id=\"T_524c6_row15_col1\" class=\"data row15 col1\" >False</td>\n",
       "    </tr>\n",
       "    <tr>\n",
       "      <th id=\"T_524c6_level0_row16\" class=\"row_heading level0 row16\" >16</th>\n",
       "      <td id=\"T_524c6_row16_col0\" class=\"data row16 col0\" >Log Experiment</td>\n",
       "      <td id=\"T_524c6_row16_col1\" class=\"data row16 col1\" >False</td>\n",
       "    </tr>\n",
       "    <tr>\n",
       "      <th id=\"T_524c6_level0_row17\" class=\"row_heading level0 row17\" >17</th>\n",
       "      <td id=\"T_524c6_row17_col0\" class=\"data row17 col0\" >Experiment Name</td>\n",
       "      <td id=\"T_524c6_row17_col1\" class=\"data row17 col1\" >clf-default-name</td>\n",
       "    </tr>\n",
       "    <tr>\n",
       "      <th id=\"T_524c6_level0_row18\" class=\"row_heading level0 row18\" >18</th>\n",
       "      <td id=\"T_524c6_row18_col0\" class=\"data row18 col0\" >USI</td>\n",
       "      <td id=\"T_524c6_row18_col1\" class=\"data row18 col1\" >fc9f</td>\n",
       "    </tr>\n",
       "  </tbody>\n",
       "</table>\n"
      ],
      "text/plain": [
       "<pandas.io.formats.style.Styler at 0x1a05bffdd80>"
      ]
     },
     "metadata": {},
     "output_type": "display_data"
    },
    {
     "data": {
      "text/plain": [
       "<pycaret.classification.oop.ClassificationExperiment at 0x1a05bc9abc0>"
      ]
     },
     "execution_count": 47,
     "metadata": {},
     "output_type": "execute_result"
    }
   ],
   "source": [
    "automl.setup(df, target = 'Churn')"
   ]
  },
  {
   "cell_type": "code",
   "execution_count": 48,
   "id": "885cce64-9751-4c2b-96d5-600bf94b343b",
   "metadata": {},
   "outputs": [
    {
     "data": {
      "text/plain": [
       "<pycaret.classification.oop.ClassificationExperiment at 0x1a05bc9abc0>"
      ]
     },
     "execution_count": 48,
     "metadata": {},
     "output_type": "execute_result"
    }
   ],
   "source": [
    "automl"
   ]
  },
  {
   "cell_type": "markdown",
   "id": "d33ada18-a1fa-4ac2-9384-01c7f0c8b349",
   "metadata": {},
   "source": [
    "compare_models() allows to compare all the models and get the best model based on the evaluation metric given to it. By default, 'accuracy' is the default metric for comparision.\n",
    "\n",
    "we also assign best model from the ds automation to best_model."
   ]
  },
  {
   "cell_type": "code",
   "execution_count": 49,
   "id": "e92935f7-ea50-4f6f-b700-a5d7893d4a8d",
   "metadata": {},
   "outputs": [
    {
     "data": {
      "text/html": [],
      "text/plain": [
       "<IPython.core.display.HTML object>"
      ]
     },
     "metadata": {},
     "output_type": "display_data"
    },
    {
     "data": {
      "text/html": [
       "<style type=\"text/css\">\n",
       "#T_0730a th {\n",
       "  text-align: left;\n",
       "}\n",
       "#T_0730a_row0_col0, #T_0730a_row0_col3, #T_0730a_row0_col4, #T_0730a_row0_col5, #T_0730a_row0_col6, #T_0730a_row0_col7, #T_0730a_row1_col0, #T_0730a_row1_col1, #T_0730a_row1_col2, #T_0730a_row1_col3, #T_0730a_row1_col4, #T_0730a_row1_col5, #T_0730a_row2_col0, #T_0730a_row2_col1, #T_0730a_row2_col2, #T_0730a_row2_col3, #T_0730a_row2_col5, #T_0730a_row2_col6, #T_0730a_row2_col7, #T_0730a_row3_col0, #T_0730a_row3_col1, #T_0730a_row3_col2, #T_0730a_row3_col3, #T_0730a_row3_col4, #T_0730a_row3_col5, #T_0730a_row3_col6, #T_0730a_row3_col7, #T_0730a_row4_col0, #T_0730a_row4_col1, #T_0730a_row4_col2, #T_0730a_row4_col3, #T_0730a_row4_col4, #T_0730a_row4_col5, #T_0730a_row4_col6, #T_0730a_row4_col7, #T_0730a_row5_col0, #T_0730a_row5_col1, #T_0730a_row5_col2, #T_0730a_row5_col3, #T_0730a_row5_col4, #T_0730a_row5_col5, #T_0730a_row5_col6, #T_0730a_row5_col7, #T_0730a_row6_col0, #T_0730a_row6_col1, #T_0730a_row6_col2, #T_0730a_row6_col3, #T_0730a_row6_col4, #T_0730a_row6_col5, #T_0730a_row6_col6, #T_0730a_row6_col7, #T_0730a_row7_col0, #T_0730a_row7_col1, #T_0730a_row7_col2, #T_0730a_row7_col3, #T_0730a_row7_col4, #T_0730a_row7_col5, #T_0730a_row7_col6, #T_0730a_row7_col7, #T_0730a_row8_col0, #T_0730a_row8_col1, #T_0730a_row8_col2, #T_0730a_row8_col3, #T_0730a_row8_col4, #T_0730a_row8_col5, #T_0730a_row8_col6, #T_0730a_row8_col7, #T_0730a_row9_col0, #T_0730a_row9_col1, #T_0730a_row9_col2, #T_0730a_row9_col4, #T_0730a_row9_col6, #T_0730a_row9_col7, #T_0730a_row10_col0, #T_0730a_row10_col1, #T_0730a_row10_col2, #T_0730a_row10_col3, #T_0730a_row10_col4, #T_0730a_row10_col5, #T_0730a_row10_col6, #T_0730a_row10_col7, #T_0730a_row11_col0, #T_0730a_row11_col1, #T_0730a_row11_col2, #T_0730a_row11_col3, #T_0730a_row11_col4, #T_0730a_row11_col5, #T_0730a_row11_col6, #T_0730a_row11_col7, #T_0730a_row12_col0, #T_0730a_row12_col1, #T_0730a_row12_col2, #T_0730a_row12_col3, #T_0730a_row12_col4, #T_0730a_row12_col5, #T_0730a_row12_col6, #T_0730a_row12_col7, #T_0730a_row13_col0, #T_0730a_row13_col1, #T_0730a_row13_col2, #T_0730a_row13_col3, #T_0730a_row13_col4, #T_0730a_row13_col5, #T_0730a_row13_col6, #T_0730a_row13_col7 {\n",
       "  text-align: left;\n",
       "}\n",
       "#T_0730a_row0_col1, #T_0730a_row0_col2, #T_0730a_row1_col6, #T_0730a_row1_col7, #T_0730a_row2_col4, #T_0730a_row9_col3, #T_0730a_row9_col5 {\n",
       "  text-align: left;\n",
       "  background-color: yellow;\n",
       "}\n",
       "#T_0730a_row0_col8, #T_0730a_row1_col8, #T_0730a_row2_col8, #T_0730a_row3_col8, #T_0730a_row4_col8, #T_0730a_row5_col8, #T_0730a_row6_col8, #T_0730a_row7_col8, #T_0730a_row8_col8, #T_0730a_row9_col8, #T_0730a_row11_col8, #T_0730a_row12_col8, #T_0730a_row13_col8 {\n",
       "  text-align: left;\n",
       "  background-color: lightgrey;\n",
       "}\n",
       "#T_0730a_row10_col8 {\n",
       "  text-align: left;\n",
       "  background-color: yellow;\n",
       "  background-color: lightgrey;\n",
       "}\n",
       "</style>\n",
       "<table id=\"T_0730a\">\n",
       "  <thead>\n",
       "    <tr>\n",
       "      <th class=\"blank level0\" >&nbsp;</th>\n",
       "      <th id=\"T_0730a_level0_col0\" class=\"col_heading level0 col0\" >Model</th>\n",
       "      <th id=\"T_0730a_level0_col1\" class=\"col_heading level0 col1\" >Accuracy</th>\n",
       "      <th id=\"T_0730a_level0_col2\" class=\"col_heading level0 col2\" >AUC</th>\n",
       "      <th id=\"T_0730a_level0_col3\" class=\"col_heading level0 col3\" >Recall</th>\n",
       "      <th id=\"T_0730a_level0_col4\" class=\"col_heading level0 col4\" >Prec.</th>\n",
       "      <th id=\"T_0730a_level0_col5\" class=\"col_heading level0 col5\" >F1</th>\n",
       "      <th id=\"T_0730a_level0_col6\" class=\"col_heading level0 col6\" >Kappa</th>\n",
       "      <th id=\"T_0730a_level0_col7\" class=\"col_heading level0 col7\" >MCC</th>\n",
       "      <th id=\"T_0730a_level0_col8\" class=\"col_heading level0 col8\" >TT (Sec)</th>\n",
       "    </tr>\n",
       "  </thead>\n",
       "  <tbody>\n",
       "    <tr>\n",
       "      <th id=\"T_0730a_level0_row0\" class=\"row_heading level0 row0\" >gbc</th>\n",
       "      <td id=\"T_0730a_row0_col0\" class=\"data row0 col0\" >Gradient Boosting Classifier</td>\n",
       "      <td id=\"T_0730a_row0_col1\" class=\"data row0 col1\" >0.7941</td>\n",
       "      <td id=\"T_0730a_row0_col2\" class=\"data row0 col2\" >0.8374</td>\n",
       "      <td id=\"T_0730a_row0_col3\" class=\"data row0 col3\" >0.5000</td>\n",
       "      <td id=\"T_0730a_row0_col4\" class=\"data row0 col4\" >0.6466</td>\n",
       "      <td id=\"T_0730a_row0_col5\" class=\"data row0 col5\" >0.5629</td>\n",
       "      <td id=\"T_0730a_row0_col6\" class=\"data row0 col6\" >0.4312</td>\n",
       "      <td id=\"T_0730a_row0_col7\" class=\"data row0 col7\" >0.4380</td>\n",
       "      <td id=\"T_0730a_row0_col8\" class=\"data row0 col8\" >0.1950</td>\n",
       "    </tr>\n",
       "    <tr>\n",
       "      <th id=\"T_0730a_level0_row1\" class=\"row_heading level0 row1\" >lr</th>\n",
       "      <td id=\"T_0730a_row1_col0\" class=\"data row1 col0\" >Logistic Regression</td>\n",
       "      <td id=\"T_0730a_row1_col1\" class=\"data row1 col1\" >0.7937</td>\n",
       "      <td id=\"T_0730a_row1_col2\" class=\"data row1 col2\" >0.8357</td>\n",
       "      <td id=\"T_0730a_row1_col3\" class=\"data row1 col3\" >0.5290</td>\n",
       "      <td id=\"T_0730a_row1_col4\" class=\"data row1 col4\" >0.6336</td>\n",
       "      <td id=\"T_0730a_row1_col5\" class=\"data row1 col5\" >0.5752</td>\n",
       "      <td id=\"T_0730a_row1_col6\" class=\"data row1 col6\" >0.4408</td>\n",
       "      <td id=\"T_0730a_row1_col7\" class=\"data row1 col7\" >0.4447</td>\n",
       "      <td id=\"T_0730a_row1_col8\" class=\"data row1 col8\" >0.8880</td>\n",
       "    </tr>\n",
       "    <tr>\n",
       "      <th id=\"T_0730a_level0_row2\" class=\"row_heading level0 row2\" >ridge</th>\n",
       "      <td id=\"T_0730a_row2_col0\" class=\"data row2 col0\" >Ridge Classifier</td>\n",
       "      <td id=\"T_0730a_row2_col1\" class=\"data row2 col1\" >0.7933</td>\n",
       "      <td id=\"T_0730a_row2_col2\" class=\"data row2 col2\" >0.0000</td>\n",
       "      <td id=\"T_0730a_row2_col3\" class=\"data row2 col3\" >0.4541</td>\n",
       "      <td id=\"T_0730a_row2_col4\" class=\"data row2 col4\" >0.6619</td>\n",
       "      <td id=\"T_0730a_row2_col5\" class=\"data row2 col5\" >0.5374</td>\n",
       "      <td id=\"T_0730a_row2_col6\" class=\"data row2 col6\" >0.4105</td>\n",
       "      <td id=\"T_0730a_row2_col7\" class=\"data row2 col7\" >0.4232</td>\n",
       "      <td id=\"T_0730a_row2_col8\" class=\"data row2 col8\" >0.0110</td>\n",
       "    </tr>\n",
       "    <tr>\n",
       "      <th id=\"T_0730a_level0_row3\" class=\"row_heading level0 row3\" >ada</th>\n",
       "      <td id=\"T_0730a_row3_col0\" class=\"data row3 col0\" >Ada Boost Classifier</td>\n",
       "      <td id=\"T_0730a_row3_col1\" class=\"data row3 col1\" >0.7911</td>\n",
       "      <td id=\"T_0730a_row3_col2\" class=\"data row3 col2\" >0.8353</td>\n",
       "      <td id=\"T_0730a_row3_col3\" class=\"data row3 col3\" >0.4855</td>\n",
       "      <td id=\"T_0730a_row3_col4\" class=\"data row3 col4\" >0.6408</td>\n",
       "      <td id=\"T_0730a_row3_col5\" class=\"data row3 col5\" >0.5516</td>\n",
       "      <td id=\"T_0730a_row3_col6\" class=\"data row3 col6\" >0.4190</td>\n",
       "      <td id=\"T_0730a_row3_col7\" class=\"data row3 col7\" >0.4263</td>\n",
       "      <td id=\"T_0730a_row3_col8\" class=\"data row3 col8\" >0.0700</td>\n",
       "    </tr>\n",
       "    <tr>\n",
       "      <th id=\"T_0730a_level0_row4\" class=\"row_heading level0 row4\" >lda</th>\n",
       "      <td id=\"T_0730a_row4_col0\" class=\"data row4 col0\" >Linear Discriminant Analysis</td>\n",
       "      <td id=\"T_0730a_row4_col1\" class=\"data row4 col1\" >0.7897</td>\n",
       "      <td id=\"T_0730a_row4_col2\" class=\"data row4 col2\" >0.8237</td>\n",
       "      <td id=\"T_0730a_row4_col3\" class=\"data row4 col3\" >0.5038</td>\n",
       "      <td id=\"T_0730a_row4_col4\" class=\"data row4 col4\" >0.6311</td>\n",
       "      <td id=\"T_0730a_row4_col5\" class=\"data row4 col5\" >0.5590</td>\n",
       "      <td id=\"T_0730a_row4_col6\" class=\"data row4 col6\" >0.4234</td>\n",
       "      <td id=\"T_0730a_row4_col7\" class=\"data row4 col7\" >0.4288</td>\n",
       "      <td id=\"T_0730a_row4_col8\" class=\"data row4 col8\" >0.0120</td>\n",
       "    </tr>\n",
       "    <tr>\n",
       "      <th id=\"T_0730a_level0_row5\" class=\"row_heading level0 row5\" >lightgbm</th>\n",
       "      <td id=\"T_0730a_row5_col0\" class=\"data row5 col0\" >Light Gradient Boosting Machine</td>\n",
       "      <td id=\"T_0730a_row5_col1\" class=\"data row5 col1\" >0.7781</td>\n",
       "      <td id=\"T_0730a_row5_col2\" class=\"data row5 col2\" >0.8209</td>\n",
       "      <td id=\"T_0730a_row5_col3\" class=\"data row5 col3\" >0.4901</td>\n",
       "      <td id=\"T_0730a_row5_col4\" class=\"data row5 col4\" >0.6023</td>\n",
       "      <td id=\"T_0730a_row5_col5\" class=\"data row5 col5\" >0.5384</td>\n",
       "      <td id=\"T_0730a_row5_col6\" class=\"data row5 col6\" >0.3948</td>\n",
       "      <td id=\"T_0730a_row5_col7\" class=\"data row5 col7\" >0.3997</td>\n",
       "      <td id=\"T_0730a_row5_col8\" class=\"data row5 col8\" >0.1320</td>\n",
       "    </tr>\n",
       "    <tr>\n",
       "      <th id=\"T_0730a_level0_row6\" class=\"row_heading level0 row6\" >rf</th>\n",
       "      <td id=\"T_0730a_row6_col0\" class=\"data row6 col0\" >Random Forest Classifier</td>\n",
       "      <td id=\"T_0730a_row6_col1\" class=\"data row6 col1\" >0.7661</td>\n",
       "      <td id=\"T_0730a_row6_col2\" class=\"data row6 col2\" >0.7928</td>\n",
       "      <td id=\"T_0730a_row6_col3\" class=\"data row6 col3\" >0.4580</td>\n",
       "      <td id=\"T_0730a_row6_col4\" class=\"data row6 col4\" >0.5756</td>\n",
       "      <td id=\"T_0730a_row6_col5\" class=\"data row6 col5\" >0.5085</td>\n",
       "      <td id=\"T_0730a_row6_col6\" class=\"data row6 col6\" >0.3581</td>\n",
       "      <td id=\"T_0730a_row6_col7\" class=\"data row6 col7\" >0.3630</td>\n",
       "      <td id=\"T_0730a_row6_col8\" class=\"data row6 col8\" >0.1650</td>\n",
       "    </tr>\n",
       "    <tr>\n",
       "      <th id=\"T_0730a_level0_row7\" class=\"row_heading level0 row7\" >knn</th>\n",
       "      <td id=\"T_0730a_row7_col0\" class=\"data row7 col0\" >K Neighbors Classifier</td>\n",
       "      <td id=\"T_0730a_row7_col1\" class=\"data row7 col1\" >0.7625</td>\n",
       "      <td id=\"T_0730a_row7_col2\" class=\"data row7 col2\" >0.7454</td>\n",
       "      <td id=\"T_0730a_row7_col3\" class=\"data row7 col3\" >0.4389</td>\n",
       "      <td id=\"T_0730a_row7_col4\" class=\"data row7 col4\" >0.5683</td>\n",
       "      <td id=\"T_0730a_row7_col5\" class=\"data row7 col5\" >0.4936</td>\n",
       "      <td id=\"T_0730a_row7_col6\" class=\"data row7 col6\" >0.3424</td>\n",
       "      <td id=\"T_0730a_row7_col7\" class=\"data row7 col7\" >0.3480</td>\n",
       "      <td id=\"T_0730a_row7_col8\" class=\"data row7 col8\" >0.0210</td>\n",
       "    </tr>\n",
       "    <tr>\n",
       "      <th id=\"T_0730a_level0_row8\" class=\"row_heading level0 row8\" >et</th>\n",
       "      <td id=\"T_0730a_row8_col0\" class=\"data row8 col0\" >Extra Trees Classifier</td>\n",
       "      <td id=\"T_0730a_row8_col1\" class=\"data row8 col1\" >0.7558</td>\n",
       "      <td id=\"T_0730a_row8_col2\" class=\"data row8 col2\" >0.7749</td>\n",
       "      <td id=\"T_0730a_row8_col3\" class=\"data row8 col3\" >0.4557</td>\n",
       "      <td id=\"T_0730a_row8_col4\" class=\"data row8 col4\" >0.5501</td>\n",
       "      <td id=\"T_0730a_row8_col5\" class=\"data row8 col5\" >0.4969</td>\n",
       "      <td id=\"T_0730a_row8_col6\" class=\"data row8 col6\" >0.3379</td>\n",
       "      <td id=\"T_0730a_row8_col7\" class=\"data row8 col7\" >0.3414</td>\n",
       "      <td id=\"T_0730a_row8_col8\" class=\"data row8 col8\" >0.1280</td>\n",
       "    </tr>\n",
       "    <tr>\n",
       "      <th id=\"T_0730a_level0_row9\" class=\"row_heading level0 row9\" >qda</th>\n",
       "      <td id=\"T_0730a_row9_col0\" class=\"data row9 col0\" >Quadratic Discriminant Analysis</td>\n",
       "      <td id=\"T_0730a_row9_col1\" class=\"data row9 col1\" >0.7471</td>\n",
       "      <td id=\"T_0730a_row9_col2\" class=\"data row9 col2\" >0.8183</td>\n",
       "      <td id=\"T_0730a_row9_col3\" class=\"data row9 col3\" >0.7240</td>\n",
       "      <td id=\"T_0730a_row9_col4\" class=\"data row9 col4\" >0.5183</td>\n",
       "      <td id=\"T_0730a_row9_col5\" class=\"data row9 col5\" >0.6034</td>\n",
       "      <td id=\"T_0730a_row9_col6\" class=\"data row9 col6\" >0.4255</td>\n",
       "      <td id=\"T_0730a_row9_col7\" class=\"data row9 col7\" >0.4389</td>\n",
       "      <td id=\"T_0730a_row9_col8\" class=\"data row9 col8\" >0.0140</td>\n",
       "    </tr>\n",
       "    <tr>\n",
       "      <th id=\"T_0730a_level0_row10\" class=\"row_heading level0 row10\" >nb</th>\n",
       "      <td id=\"T_0730a_row10_col0\" class=\"data row10 col0\" >Naive Bayes</td>\n",
       "      <td id=\"T_0730a_row10_col1\" class=\"data row10 col1\" >0.7426</td>\n",
       "      <td id=\"T_0730a_row10_col2\" class=\"data row10 col2\" >0.8148</td>\n",
       "      <td id=\"T_0730a_row10_col3\" class=\"data row10 col3\" >0.7079</td>\n",
       "      <td id=\"T_0730a_row10_col4\" class=\"data row10 col4\" >0.5117</td>\n",
       "      <td id=\"T_0730a_row10_col5\" class=\"data row10 col5\" >0.5936</td>\n",
       "      <td id=\"T_0730a_row10_col6\" class=\"data row10 col6\" >0.4125</td>\n",
       "      <td id=\"T_0730a_row10_col7\" class=\"data row10 col7\" >0.4245</td>\n",
       "      <td id=\"T_0730a_row10_col8\" class=\"data row10 col8\" >0.0100</td>\n",
       "    </tr>\n",
       "    <tr>\n",
       "      <th id=\"T_0730a_level0_row11\" class=\"row_heading level0 row11\" >dummy</th>\n",
       "      <td id=\"T_0730a_row11_col0\" class=\"data row11 col0\" >Dummy Classifier</td>\n",
       "      <td id=\"T_0730a_row11_col1\" class=\"data row11 col1\" >0.7347</td>\n",
       "      <td id=\"T_0730a_row11_col2\" class=\"data row11 col2\" >0.5000</td>\n",
       "      <td id=\"T_0730a_row11_col3\" class=\"data row11 col3\" >0.0000</td>\n",
       "      <td id=\"T_0730a_row11_col4\" class=\"data row11 col4\" >0.0000</td>\n",
       "      <td id=\"T_0730a_row11_col5\" class=\"data row11 col5\" >0.0000</td>\n",
       "      <td id=\"T_0730a_row11_col6\" class=\"data row11 col6\" >0.0000</td>\n",
       "      <td id=\"T_0730a_row11_col7\" class=\"data row11 col7\" >0.0000</td>\n",
       "      <td id=\"T_0730a_row11_col8\" class=\"data row11 col8\" >0.0110</td>\n",
       "    </tr>\n",
       "    <tr>\n",
       "      <th id=\"T_0730a_level0_row12\" class=\"row_heading level0 row12\" >dt</th>\n",
       "      <td id=\"T_0730a_row12_col0\" class=\"data row12 col0\" >Decision Tree Classifier</td>\n",
       "      <td id=\"T_0730a_row12_col1\" class=\"data row12 col1\" >0.7160</td>\n",
       "      <td id=\"T_0730a_row12_col2\" class=\"data row12 col2\" >0.6430</td>\n",
       "      <td id=\"T_0730a_row12_col3\" class=\"data row12 col3\" >0.4633</td>\n",
       "      <td id=\"T_0730a_row12_col4\" class=\"data row12 col4\" >0.4663</td>\n",
       "      <td id=\"T_0730a_row12_col5\" class=\"data row12 col5\" >0.4637</td>\n",
       "      <td id=\"T_0730a_row12_col6\" class=\"data row12 col6\" >0.2709</td>\n",
       "      <td id=\"T_0730a_row12_col7\" class=\"data row12 col7\" >0.2716</td>\n",
       "      <td id=\"T_0730a_row12_col8\" class=\"data row12 col8\" >0.0140</td>\n",
       "    </tr>\n",
       "    <tr>\n",
       "      <th id=\"T_0730a_level0_row13\" class=\"row_heading level0 row13\" >svm</th>\n",
       "      <td id=\"T_0730a_row13_col0\" class=\"data row13 col0\" >SVM - Linear Kernel</td>\n",
       "      <td id=\"T_0730a_row13_col1\" class=\"data row13 col1\" >0.6728</td>\n",
       "      <td id=\"T_0730a_row13_col2\" class=\"data row13 col2\" >0.0000</td>\n",
       "      <td id=\"T_0730a_row13_col3\" class=\"data row13 col3\" >0.5542</td>\n",
       "      <td id=\"T_0730a_row13_col4\" class=\"data row13 col4\" >0.5136</td>\n",
       "      <td id=\"T_0730a_row13_col5\" class=\"data row13 col5\" >0.4586</td>\n",
       "      <td id=\"T_0730a_row13_col6\" class=\"data row13 col6\" >0.2630</td>\n",
       "      <td id=\"T_0730a_row13_col7\" class=\"data row13 col7\" >0.3086</td>\n",
       "      <td id=\"T_0730a_row13_col8\" class=\"data row13 col8\" >0.0150</td>\n",
       "    </tr>\n",
       "  </tbody>\n",
       "</table>\n"
      ],
      "text/plain": [
       "<pandas.io.formats.style.Styler at 0x1a05a50c4c0>"
      ]
     },
     "metadata": {},
     "output_type": "display_data"
    },
    {
     "data": {
      "text/html": [],
      "text/plain": [
       "<IPython.core.display.HTML object>"
      ]
     },
     "metadata": {},
     "output_type": "display_data"
    }
   ],
   "source": [
    "best_model = automl.compare_models()"
   ]
  },
  {
   "cell_type": "code",
   "execution_count": 50,
   "id": "1db21e7e-a0c2-40ab-8879-8f5d5c2cc1b2",
   "metadata": {},
   "outputs": [
    {
     "data": {
      "text/html": [
       "<style>#sk-container-id-2 {color: black;background-color: white;}#sk-container-id-2 pre{padding: 0;}#sk-container-id-2 div.sk-toggleable {background-color: white;}#sk-container-id-2 label.sk-toggleable__label {cursor: pointer;display: block;width: 100%;margin-bottom: 0;padding: 0.3em;box-sizing: border-box;text-align: center;}#sk-container-id-2 label.sk-toggleable__label-arrow:before {content: \"▸\";float: left;margin-right: 0.25em;color: #696969;}#sk-container-id-2 label.sk-toggleable__label-arrow:hover:before {color: black;}#sk-container-id-2 div.sk-estimator:hover label.sk-toggleable__label-arrow:before {color: black;}#sk-container-id-2 div.sk-toggleable__content {max-height: 0;max-width: 0;overflow: hidden;text-align: left;background-color: #f0f8ff;}#sk-container-id-2 div.sk-toggleable__content pre {margin: 0.2em;color: black;border-radius: 0.25em;background-color: #f0f8ff;}#sk-container-id-2 input.sk-toggleable__control:checked~div.sk-toggleable__content {max-height: 200px;max-width: 100%;overflow: auto;}#sk-container-id-2 input.sk-toggleable__control:checked~label.sk-toggleable__label-arrow:before {content: \"▾\";}#sk-container-id-2 div.sk-estimator input.sk-toggleable__control:checked~label.sk-toggleable__label {background-color: #d4ebff;}#sk-container-id-2 div.sk-label input.sk-toggleable__control:checked~label.sk-toggleable__label {background-color: #d4ebff;}#sk-container-id-2 input.sk-hidden--visually {border: 0;clip: rect(1px 1px 1px 1px);clip: rect(1px, 1px, 1px, 1px);height: 1px;margin: -1px;overflow: hidden;padding: 0;position: absolute;width: 1px;}#sk-container-id-2 div.sk-estimator {font-family: monospace;background-color: #f0f8ff;border: 1px dotted black;border-radius: 0.25em;box-sizing: border-box;margin-bottom: 0.5em;}#sk-container-id-2 div.sk-estimator:hover {background-color: #d4ebff;}#sk-container-id-2 div.sk-parallel-item::after {content: \"\";width: 100%;border-bottom: 1px solid gray;flex-grow: 1;}#sk-container-id-2 div.sk-label:hover label.sk-toggleable__label {background-color: #d4ebff;}#sk-container-id-2 div.sk-serial::before {content: \"\";position: absolute;border-left: 1px solid gray;box-sizing: border-box;top: 0;bottom: 0;left: 50%;z-index: 0;}#sk-container-id-2 div.sk-serial {display: flex;flex-direction: column;align-items: center;background-color: white;padding-right: 0.2em;padding-left: 0.2em;position: relative;}#sk-container-id-2 div.sk-item {position: relative;z-index: 1;}#sk-container-id-2 div.sk-parallel {display: flex;align-items: stretch;justify-content: center;background-color: white;position: relative;}#sk-container-id-2 div.sk-item::before, #sk-container-id-2 div.sk-parallel-item::before {content: \"\";position: absolute;border-left: 1px solid gray;box-sizing: border-box;top: 0;bottom: 0;left: 50%;z-index: -1;}#sk-container-id-2 div.sk-parallel-item {display: flex;flex-direction: column;z-index: 1;position: relative;background-color: white;}#sk-container-id-2 div.sk-parallel-item:first-child::after {align-self: flex-end;width: 50%;}#sk-container-id-2 div.sk-parallel-item:last-child::after {align-self: flex-start;width: 50%;}#sk-container-id-2 div.sk-parallel-item:only-child::after {width: 0;}#sk-container-id-2 div.sk-dashed-wrapped {border: 1px dashed gray;margin: 0 0.4em 0.5em 0.4em;box-sizing: border-box;padding-bottom: 0.4em;background-color: white;}#sk-container-id-2 div.sk-label label {font-family: monospace;font-weight: bold;display: inline-block;line-height: 1.2em;}#sk-container-id-2 div.sk-label-container {text-align: center;}#sk-container-id-2 div.sk-container {/* jupyter's `normalize.less` sets `[hidden] { display: none; }` but bootstrap.min.css set `[hidden] { display: none !important; }` so we also need the `!important` here to be able to override the default hidden behavior on the sphinx rendered scikit-learn.org. See: https://github.com/scikit-learn/scikit-learn/issues/21755 */display: inline-block !important;position: relative;}#sk-container-id-2 div.sk-text-repr-fallback {display: none;}</style><div id=\"sk-container-id-2\" class=\"sk-top-container\"><div class=\"sk-text-repr-fallback\"><pre>GradientBoostingClassifier(ccp_alpha=0.0, criterion=&#x27;friedman_mse&#x27;, init=None,\n",
       "                           learning_rate=0.1, loss=&#x27;log_loss&#x27;, max_depth=3,\n",
       "                           max_features=None, max_leaf_nodes=None,\n",
       "                           min_impurity_decrease=0.0, min_samples_leaf=1,\n",
       "                           min_samples_split=2, min_weight_fraction_leaf=0.0,\n",
       "                           n_estimators=100, n_iter_no_change=None,\n",
       "                           random_state=5189, subsample=1.0, tol=0.0001,\n",
       "                           validation_fraction=0.1, verbose=0,\n",
       "                           warm_start=False)</pre><b>In a Jupyter environment, please rerun this cell to show the HTML representation or trust the notebook. <br />On GitHub, the HTML representation is unable to render, please try loading this page with nbviewer.org.</b></div><div class=\"sk-container\" hidden><div class=\"sk-item\"><div class=\"sk-estimator sk-toggleable\"><input class=\"sk-toggleable__control sk-hidden--visually\" id=\"sk-estimator-id-2\" type=\"checkbox\" checked><label for=\"sk-estimator-id-2\" class=\"sk-toggleable__label sk-toggleable__label-arrow\">GradientBoostingClassifier</label><div class=\"sk-toggleable__content\"><pre>GradientBoostingClassifier(ccp_alpha=0.0, criterion=&#x27;friedman_mse&#x27;, init=None,\n",
       "                           learning_rate=0.1, loss=&#x27;log_loss&#x27;, max_depth=3,\n",
       "                           max_features=None, max_leaf_nodes=None,\n",
       "                           min_impurity_decrease=0.0, min_samples_leaf=1,\n",
       "                           min_samples_split=2, min_weight_fraction_leaf=0.0,\n",
       "                           n_estimators=100, n_iter_no_change=None,\n",
       "                           random_state=5189, subsample=1.0, tol=0.0001,\n",
       "                           validation_fraction=0.1, verbose=0,\n",
       "                           warm_start=False)</pre></div></div></div></div></div>"
      ],
      "text/plain": [
       "GradientBoostingClassifier(ccp_alpha=0.0, criterion='friedman_mse', init=None,\n",
       "                           learning_rate=0.1, loss='log_loss', max_depth=3,\n",
       "                           max_features=None, max_leaf_nodes=None,\n",
       "                           min_impurity_decrease=0.0, min_samples_leaf=1,\n",
       "                           min_samples_split=2, min_weight_fraction_leaf=0.0,\n",
       "                           n_estimators=100, n_iter_no_change=None,\n",
       "                           random_state=5189, subsample=1.0, tol=0.0001,\n",
       "                           validation_fraction=0.1, verbose=0,\n",
       "                           warm_start=False)"
      ]
     },
     "execution_count": 50,
     "metadata": {},
     "output_type": "execute_result"
    }
   ],
   "source": [
    "best_model"
   ]
  },
  {
   "cell_type": "markdown",
   "id": "4d2a3af9-7a0e-4ea8-8566-cccb382a4f85",
   "metadata": {},
   "source": [
    "From all the above models, we got **Gradient Boosting Classifier(gbc)** is the best model with a accuracy of 79.41%. Logistic regression, Ridge classifier and Ada Boost classifier are the following better models with almost similar accuracy."
   ]
  },
  {
   "cell_type": "markdown",
   "id": "be979357-6306-4525-aed7-68a37bba3f9e",
   "metadata": {},
   "source": [
    "Evaluate_model function  gives all the possible evaluation metrics for the model."
   ]
  },
  {
   "cell_type": "code",
   "execution_count": 79,
   "id": "61b7ca74-547e-445f-94a5-59314496fd0c",
   "metadata": {},
   "outputs": [
    {
     "data": {
      "application/vnd.jupyter.widget-view+json": {
       "model_id": "06ca6672fb9249dbb4a2e885870f0354",
       "version_major": 2,
       "version_minor": 0
      },
      "text/plain": [
       "interactive(children=(ToggleButtons(description='Plot Type:', icons=('',), options=(('Pipeline Plot', 'pipelin…"
      ]
     },
     "metadata": {},
     "output_type": "display_data"
    }
   ],
   "source": [
    "automl.evaluate_model(best_model)"
   ]
  },
  {
   "cell_type": "markdown",
   "id": "348d6eda-f79a-484a-a765-5f0e92d91a54",
   "metadata": {},
   "source": [
    "plot_model function provides the different evalution plots for the model. By default, it produces **ROC** Curve . "
   ]
  },
  {
   "cell_type": "code",
   "execution_count": 52,
   "id": "aa4e9ea3-e9aa-42b7-90d0-09567294c46e",
   "metadata": {},
   "outputs": [
    {
     "data": {
      "text/html": [],
      "text/plain": [
       "<IPython.core.display.HTML object>"
      ]
     },
     "metadata": {},
     "output_type": "display_data"
    },
    {
     "data": {
      "image/png": "[encoded data removed]",
      "text/plain": [
       "<Figure size 800x550 with 1 Axes>"
      ]
     },
     "metadata": {},
     "output_type": "display_data"
    }
   ],
   "source": [
    "automl.plot_model(best_model)"
   ]
  },
  {
   "cell_type": "markdown",
   "id": "9e9fa111-cc40-4c62-a298-43740d7f4c70",
   "metadata": {},
   "source": [
    "The above plot shows the ROC curve of best_modl(gbc). In the plot, our model Area under curve value is 0.84, it shows model perfromance is considered as good."
   ]
  },
  {
   "cell_type": "markdown",
   "id": "a6f988d2-b5db-4f20-ab74-a3635b33e497",
   "metadata": {},
   "source": [
    "# Saving the model:\n",
    "\n",
    "Save_model function in pycaret saves the transformation pipeline and trained model object into the current working directory as a pickle file for later use."
   ]
  },
  {
   "cell_type": "code",
   "execution_count": 53,
   "id": "4595a045-db52-41c2-9d82-fd2c584d4ec4",
   "metadata": {},
   "outputs": [
    {
     "name": "stdout",
     "output_type": "stream",
     "text": [
      "Transformation Pipeline and Model Successfully Saved\n"
     ]
    },
    {
     "data": {
      "text/plain": [
       "(Pipeline(memory=Memory(location=None),\n",
       "          steps=[('numerical_imputer',\n",
       "                  TransformerWrapper(exclude=None,\n",
       "                                     include=['tenure', 'PhoneService',\n",
       "                                              'Contract', 'PaymentMethod',\n",
       "                                              'MonthlyCharges', 'TotalCharges',\n",
       "                                              'charge_per_tenure'],\n",
       "                                     transformer=SimpleImputer(add_indicator=False,\n",
       "                                                               copy=True,\n",
       "                                                               fill_value=None,\n",
       "                                                               keep_empty_features=False,\n",
       "                                                               missing_values=nan,\n",
       "                                                               strategy='mean',\n",
       "                                                               verbos...\n",
       "                                             criterion='friedman_mse', init=None,\n",
       "                                             learning_rate=0.1, loss='log_loss',\n",
       "                                             max_depth=3, max_features=None,\n",
       "                                             max_leaf_nodes=None,\n",
       "                                             min_impurity_decrease=0.0,\n",
       "                                             min_samples_leaf=1,\n",
       "                                             min_samples_split=2,\n",
       "                                             min_weight_fraction_leaf=0.0,\n",
       "                                             n_estimators=100,\n",
       "                                             n_iter_no_change=None,\n",
       "                                             random_state=5189, subsample=1.0,\n",
       "                                             tol=0.0001, validation_fraction=0.1,\n",
       "                                             verbose=0, warm_start=False))],\n",
       "          verbose=False),\n",
       " 'pycaret_model.pkl')"
      ]
     },
     "execution_count": 53,
     "metadata": {},
     "output_type": "execute_result"
    }
   ],
   "source": [
    "automl.save_model(best_model, 'pycaret_model')"
   ]
  },
  {
   "cell_type": "markdown",
   "id": "fc918915-5edb-41cf-a2a1-8698e1523a4a",
   "metadata": {},
   "source": [
    "Here, we saved our model as 'pycaret_model'."
   ]
  },
  {
   "cell_type": "markdown",
   "id": "4cd4ea9d-5549-4e2b-9013-6f227b1a6eee",
   "metadata": {},
   "source": [
    "# Loading the model:\n",
    "\n",
    "we can load the saved model by using load_model function of pycaret.The load model function loads a previously saved pipeline."
   ]
  },
  {
   "cell_type": "code",
   "execution_count": 54,
   "id": "8cb641b5-f468-4f77-b31c-fbb31ba716bb",
   "metadata": {},
   "outputs": [
    {
     "name": "stdout",
     "output_type": "stream",
     "text": [
      "Transformation Pipeline and Model Successfully Loaded\n"
     ]
    }
   ],
   "source": [
    "new_pycaret = ClassificationExperiment()\n",
    "loaded_model = new_pycaret.load_model('pycaret_model')"
   ]
  },
  {
   "cell_type": "markdown",
   "id": "b3f0b1b8-7ca5-4d50-92cb-f8e33ea8daa0",
   "metadata": {},
   "source": [
    "we use predict_model to predict the output of the new data ."
   ]
  },
  {
   "cell_type": "code",
   "execution_count": 55,
   "id": "033fff1c-cd91-4382-b526-1c892fdc7097",
   "metadata": {},
   "outputs": [
    {
     "data": {
      "text/html": [
       "<div>\n",
       "<style scoped>\n",
       "    .dataframe tbody tr th:only-of-type {\n",
       "        vertical-align: middle;\n",
       "    }\n",
       "\n",
       "    .dataframe tbody tr th {\n",
       "        vertical-align: top;\n",
       "    }\n",
       "\n",
       "    .dataframe thead th {\n",
       "        text-align: right;\n",
       "    }\n",
       "</style>\n",
       "<table border=\"1\" class=\"dataframe\">\n",
       "  <thead>\n",
       "    <tr style=\"text-align: right;\">\n",
       "      <th></th>\n",
       "      <th>tenure</th>\n",
       "      <th>PhoneService</th>\n",
       "      <th>Contract</th>\n",
       "      <th>PaymentMethod</th>\n",
       "      <th>MonthlyCharges</th>\n",
       "      <th>TotalCharges</th>\n",
       "      <th>charge_per_tenure</th>\n",
       "      <th>Churn</th>\n",
       "      <th>prediction_label</th>\n",
       "      <th>prediction_score</th>\n",
       "    </tr>\n",
       "    <tr>\n",
       "      <th>customerID</th>\n",
       "      <th></th>\n",
       "      <th></th>\n",
       "      <th></th>\n",
       "      <th></th>\n",
       "      <th></th>\n",
       "      <th></th>\n",
       "      <th></th>\n",
       "      <th></th>\n",
       "      <th></th>\n",
       "      <th></th>\n",
       "    </tr>\n",
       "  </thead>\n",
       "  <tbody>\n",
       "    <tr>\n",
       "      <th>0639-TSIQW</th>\n",
       "      <td>67.0</td>\n",
       "      <td>1</td>\n",
       "      <td>0</td>\n",
       "      <td>0</td>\n",
       "      <td>102.949997</td>\n",
       "      <td>6886.250000</td>\n",
       "      <td>102.779854</td>\n",
       "      <td>1</td>\n",
       "      <td>0</td>\n",
       "      <td>0.6608</td>\n",
       "    </tr>\n",
       "    <tr>\n",
       "      <th>8456-QDAVC</th>\n",
       "      <td>19.0</td>\n",
       "      <td>1</td>\n",
       "      <td>0</td>\n",
       "      <td>1</td>\n",
       "      <td>78.699997</td>\n",
       "      <td>1495.099976</td>\n",
       "      <td>78.689476</td>\n",
       "      <td>0</td>\n",
       "      <td>0</td>\n",
       "      <td>0.6561</td>\n",
       "    </tr>\n",
       "    <tr>\n",
       "      <th>7750-EYXWZ</th>\n",
       "      <td>12.0</td>\n",
       "      <td>0</td>\n",
       "      <td>1</td>\n",
       "      <td>3</td>\n",
       "      <td>60.650002</td>\n",
       "      <td>743.299988</td>\n",
       "      <td>61.941666</td>\n",
       "      <td>0</td>\n",
       "      <td>0</td>\n",
       "      <td>0.7630</td>\n",
       "    </tr>\n",
       "    <tr>\n",
       "      <th>2569-WGERO</th>\n",
       "      <td>72.0</td>\n",
       "      <td>1</td>\n",
       "      <td>2</td>\n",
       "      <td>1</td>\n",
       "      <td>21.150000</td>\n",
       "      <td>1419.400024</td>\n",
       "      <td>19.713888</td>\n",
       "      <td>0</td>\n",
       "      <td>0</td>\n",
       "      <td>0.9867</td>\n",
       "    </tr>\n",
       "    <tr>\n",
       "      <th>6840-RESVB</th>\n",
       "      <td>24.0</td>\n",
       "      <td>1</td>\n",
       "      <td>1</td>\n",
       "      <td>2</td>\n",
       "      <td>84.800003</td>\n",
       "      <td>1990.500000</td>\n",
       "      <td>82.937500</td>\n",
       "      <td>0</td>\n",
       "      <td>0</td>\n",
       "      <td>0.8786</td>\n",
       "    </tr>\n",
       "    <tr>\n",
       "      <th>2234-XADUH</th>\n",
       "      <td>72.0</td>\n",
       "      <td>1</td>\n",
       "      <td>1</td>\n",
       "      <td>0</td>\n",
       "      <td>103.199997</td>\n",
       "      <td>7362.899902</td>\n",
       "      <td>102.262497</td>\n",
       "      <td>0</td>\n",
       "      <td>0</td>\n",
       "      <td>0.8865</td>\n",
       "    </tr>\n",
       "    <tr>\n",
       "      <th>4801-JZAZL</th>\n",
       "      <td>11.0</td>\n",
       "      <td>0</td>\n",
       "      <td>0</td>\n",
       "      <td>3</td>\n",
       "      <td>29.600000</td>\n",
       "      <td>346.450012</td>\n",
       "      <td>31.495455</td>\n",
       "      <td>0</td>\n",
       "      <td>0</td>\n",
       "      <td>0.7189</td>\n",
       "    </tr>\n",
       "    <tr>\n",
       "      <th>8361-LTMKD</th>\n",
       "      <td>4.0</td>\n",
       "      <td>1</td>\n",
       "      <td>0</td>\n",
       "      <td>2</td>\n",
       "      <td>74.400002</td>\n",
       "      <td>306.600006</td>\n",
       "      <td>76.650002</td>\n",
       "      <td>1</td>\n",
       "      <td>1</td>\n",
       "      <td>0.6208</td>\n",
       "    </tr>\n",
       "  </tbody>\n",
       "</table>\n",
       "</div>"
      ],
      "text/plain": [
       "            tenure  PhoneService  Contract  PaymentMethod  MonthlyCharges  \\\n",
       "customerID                                                                  \n",
       "0639-TSIQW    67.0             1         0              0      102.949997   \n",
       "8456-QDAVC    19.0             1         0              1       78.699997   \n",
       "7750-EYXWZ    12.0             0         1              3       60.650002   \n",
       "2569-WGERO    72.0             1         2              1       21.150000   \n",
       "6840-RESVB    24.0             1         1              2       84.800003   \n",
       "2234-XADUH    72.0             1         1              0      103.199997   \n",
       "4801-JZAZL    11.0             0         0              3       29.600000   \n",
       "8361-LTMKD     4.0             1         0              2       74.400002   \n",
       "\n",
       "            TotalCharges  charge_per_tenure  Churn  prediction_label  \\\n",
       "customerID                                                             \n",
       "0639-TSIQW   6886.250000         102.779854      1                 0   \n",
       "8456-QDAVC   1495.099976          78.689476      0                 0   \n",
       "7750-EYXWZ    743.299988          61.941666      0                 0   \n",
       "2569-WGERO   1419.400024          19.713888      0                 0   \n",
       "6840-RESVB   1990.500000          82.937500      0                 0   \n",
       "2234-XADUH   7362.899902         102.262497      0                 0   \n",
       "4801-JZAZL    346.450012          31.495455      0                 0   \n",
       "8361-LTMKD    306.600006          76.650002      1                 1   \n",
       "\n",
       "            prediction_score  \n",
       "customerID                    \n",
       "0639-TSIQW            0.6608  \n",
       "8456-QDAVC            0.6561  \n",
       "7750-EYXWZ            0.7630  \n",
       "2569-WGERO            0.9867  \n",
       "6840-RESVB            0.8786  \n",
       "2234-XADUH            0.8865  \n",
       "4801-JZAZL            0.7189  \n",
       "8361-LTMKD            0.6208  "
      ]
     },
     "execution_count": 55,
     "metadata": {},
     "output_type": "execute_result"
    }
   ],
   "source": [
    "new_pycaret.predict_model(loaded_model, df.iloc[-9:-1])"
   ]
  },
  {
   "cell_type": "markdown",
   "id": "5a919c99-4df7-471e-83f9-9f723dfdfc1f",
   "metadata": {},
   "source": [
    "we can observe , predict_model created two new columns i.e.,'prediction_label' and 'prediction_score'. prediction_label is the predicted output for the given data whereas the prediction_score is the probability of that predcited_label."
   ]
  },
  {
   "cell_type": "markdown",
   "id": "8ef0aa7b-1868-4b5e-8f02-d39d27c90b78",
   "metadata": {},
   "source": [
    "# Displaying python module and running with prepared_churn_data:\n",
    "\n",
    "we can observe the created python module by using IPython.display in python."
   ]
  },
  {
   "cell_type": "code",
   "execution_count": 71,
   "id": "7f85c306-ecee-4627-9ea4-12a268f3dae5",
   "metadata": {},
   "outputs": [
    {
     "data": {
      "text/html": [
       "<style>pre { line-height: 125%; }\n",
       "td.linenos .normal { color: inherit; background-color: transparent; padding-left: 5px; padding-right: 5px; }\n",
       "span.linenos { color: inherit; background-color: transparent; padding-left: 5px; padding-right: 5px; }\n",
       "td.linenos .special { color: #000000; background-color: #ffffc0; padding-left: 5px; padding-right: 5px; }\n",
       "span.linenos.special { color: #000000; background-color: #ffffc0; padding-left: 5px; padding-right: 5px; }\n",
       ".output_html .hll { background-color: #ffffcc }\n",
       ".output_html { background: #f8f8f8; }\n",
       ".output_html .c { color: #3D7B7B; font-style: italic } /* Comment */\n",
       ".output_html .err { border: 1px solid #FF0000 } /* Error */\n",
       ".output_html .k { color: #008000; font-weight: bold } /* Keyword */\n",
       ".output_html .o { color: #666666 } /* Operator */\n",
       ".output_html .ch { color: #3D7B7B; font-style: italic } /* Comment.Hashbang */\n",
       ".output_html .cm { color: #3D7B7B; font-style: italic } /* Comment.Multiline */\n",
       ".output_html .cp { color: #9C6500 } /* Comment.Preproc */\n",
       ".output_html .cpf { color: #3D7B7B; font-style: italic } /* Comment.PreprocFile */\n",
       ".output_html .c1 { color: #3D7B7B; font-style: italic } /* Comment.Single */\n",
       ".output_html .cs { color: #3D7B7B; font-style: italic } /* Comment.Special */\n",
       ".output_html .gd { color: #A00000 } /* Generic.Deleted */\n",
       ".output_html .ge { font-style: italic } /* Generic.Emph */\n",
       ".output_html .gr { color: #E40000 } /* Generic.Error */\n",
       ".output_html .gh { color: #000080; font-weight: bold } /* Generic.Heading */\n",
       ".output_html .gi { color: #008400 } /* Generic.Inserted */\n",
       ".output_html .go { color: #717171 } /* Generic.Output */\n",
       ".output_html .gp { color: #000080; font-weight: bold } /* Generic.Prompt */\n",
       ".output_html .gs { font-weight: bold } /* Generic.Strong */\n",
       ".output_html .gu { color: #800080; font-weight: bold } /* Generic.Subheading */\n",
       ".output_html .gt { color: #0044DD } /* Generic.Traceback */\n",
       ".output_html .kc { color: #008000; font-weight: bold } /* Keyword.Constant */\n",
       ".output_html .kd { color: #008000; font-weight: bold } /* Keyword.Declaration */\n",
       ".output_html .kn { color: #008000; font-weight: bold } /* Keyword.Namespace */\n",
       ".output_html .kp { color: #008000 } /* Keyword.Pseudo */\n",
       ".output_html .kr { color: #008000; font-weight: bold } /* Keyword.Reserved */\n",
       ".output_html .kt { color: #B00040 } /* Keyword.Type */\n",
       ".output_html .m { color: #666666 } /* Literal.Number */\n",
       ".output_html .s { color: #BA2121 } /* Literal.String */\n",
       ".output_html .na { color: #687822 } /* Name.Attribute */\n",
       ".output_html .nb { color: #008000 } /* Name.Builtin */\n",
       ".output_html .nc { color: #0000FF; font-weight: bold } /* Name.Class */\n",
       ".output_html .no { color: #880000 } /* Name.Constant */\n",
       ".output_html .nd { color: #AA22FF } /* Name.Decorator */\n",
       ".output_html .ni { color: #717171; font-weight: bold } /* Name.Entity */\n",
       ".output_html .ne { color: #CB3F38; font-weight: bold } /* Name.Exception */\n",
       ".output_html .nf { color: #0000FF } /* Name.Function */\n",
       ".output_html .nl { color: #767600 } /* Name.Label */\n",
       ".output_html .nn { color: #0000FF; font-weight: bold } /* Name.Namespace */\n",
       ".output_html .nt { color: #008000; font-weight: bold } /* Name.Tag */\n",
       ".output_html .nv { color: #19177C } /* Name.Variable */\n",
       ".output_html .ow { color: #AA22FF; font-weight: bold } /* Operator.Word */\n",
       ".output_html .w { color: #bbbbbb } /* Text.Whitespace */\n",
       ".output_html .mb { color: #666666 } /* Literal.Number.Bin */\n",
       ".output_html .mf { color: #666666 } /* Literal.Number.Float */\n",
       ".output_html .mh { color: #666666 } /* Literal.Number.Hex */\n",
       ".output_html .mi { color: #666666 } /* Literal.Number.Integer */\n",
       ".output_html .mo { color: #666666 } /* Literal.Number.Oct */\n",
       ".output_html .sa { color: #BA2121 } /* Literal.String.Affix */\n",
       ".output_html .sb { color: #BA2121 } /* Literal.String.Backtick */\n",
       ".output_html .sc { color: #BA2121 } /* Literal.String.Char */\n",
       ".output_html .dl { color: #BA2121 } /* Literal.String.Delimiter */\n",
       ".output_html .sd { color: #BA2121; font-style: italic } /* Literal.String.Doc */\n",
       ".output_html .s2 { color: #BA2121 } /* Literal.String.Double */\n",
       ".output_html .se { color: #AA5D1F; font-weight: bold } /* Literal.String.Escape */\n",
       ".output_html .sh { color: #BA2121 } /* Literal.String.Heredoc */\n",
       ".output_html .si { color: #A45A77; font-weight: bold } /* Literal.String.Interpol */\n",
       ".output_html .sx { color: #008000 } /* Literal.String.Other */\n",
       ".output_html .sr { color: #A45A77 } /* Literal.String.Regex */\n",
       ".output_html .s1 { color: #BA2121 } /* Literal.String.Single */\n",
       ".output_html .ss { color: #19177C } /* Literal.String.Symbol */\n",
       ".output_html .bp { color: #008000 } /* Name.Builtin.Pseudo */\n",
       ".output_html .fm { color: #0000FF } /* Name.Function.Magic */\n",
       ".output_html .vc { color: #19177C } /* Name.Variable.Class */\n",
       ".output_html .vg { color: #19177C } /* Name.Variable.Global */\n",
       ".output_html .vi { color: #19177C } /* Name.Variable.Instance */\n",
       ".output_html .vm { color: #19177C } /* Name.Variable.Magic */\n",
       ".output_html .il { color: #666666 } /* Literal.Number.Integer.Long */</style><div class=\"highlight\"><pre><span></span><span class=\"kn\">import</span> <span class=\"nn\">pandas</span> <span class=\"k\">as</span> <span class=\"nn\">pd</span>\n",
       "<span class=\"kn\">from</span> <span class=\"nn\">pycaret.classification</span> <span class=\"kn\">import</span> <span class=\"n\">predict_model</span><span class=\"p\">,</span> <span class=\"n\">load_model</span>\n",
       "\n",
       "<span class=\"k\">def</span> <span class=\"nf\">load_data</span><span class=\"p\">(</span><span class=\"n\">file_path</span><span class=\"p\">):</span>\n",
       "    <span class=\"n\">df</span> <span class=\"o\">=</span> <span class=\"n\">pd</span><span class=\"o\">.</span><span class=\"n\">read_csv</span><span class=\"p\">(</span><span class=\"n\">file_path</span><span class=\"p\">,</span> <span class=\"n\">index_col</span> <span class=\"o\">=</span> <span class=\"s1\">&#39;customerID&#39;</span><span class=\"p\">)</span>\n",
       "    <span class=\"k\">return</span> <span class=\"n\">df</span>\n",
       "\n",
       "<span class=\"k\">def</span> <span class=\"nf\">make_predictions</span><span class=\"p\">(</span><span class=\"n\">df</span><span class=\"p\">):</span>\n",
       "    <span class=\"n\">model</span> <span class=\"o\">=</span> <span class=\"n\">load_model</span><span class=\"p\">(</span><span class=\"s1\">&#39;pycaret_model&#39;</span><span class=\"p\">)</span>\n",
       "    <span class=\"n\">predictions</span> <span class=\"o\">=</span> <span class=\"n\">predict_model</span><span class=\"p\">(</span><span class=\"n\">model</span><span class=\"p\">,</span> <span class=\"n\">data</span><span class=\"o\">=</span> <span class=\"n\">df</span><span class=\"p\">)</span>\n",
       "    <span class=\"n\">predictions</span><span class=\"o\">.</span><span class=\"n\">rename</span><span class=\"p\">({</span><span class=\"s1\">&#39;prediction_label&#39;</span><span class=\"p\">:</span><span class=\"s1\">&#39;predicted_churn&#39;</span><span class=\"p\">},</span> <span class=\"n\">axis</span><span class=\"o\">=</span><span class=\"mi\">1</span><span class=\"p\">,</span> <span class=\"n\">inplace</span> <span class=\"o\">=</span> <span class=\"kc\">True</span><span class=\"p\">)</span>\n",
       "    <span class=\"n\">predictions</span><span class=\"p\">[</span><span class=\"s1\">&#39;predicted_churn&#39;</span><span class=\"p\">]</span><span class=\"o\">.</span><span class=\"n\">replace</span><span class=\"p\">({</span><span class=\"mi\">0</span><span class=\"p\">:</span><span class=\"s1\">&#39;No Churn&#39;</span><span class=\"p\">,</span> <span class=\"mi\">1</span><span class=\"p\">:</span><span class=\"s1\">&#39;Churn&#39;</span><span class=\"p\">},</span> <span class=\"n\">inplace</span> <span class=\"o\">=</span> <span class=\"kc\">True</span><span class=\"p\">)</span>\n",
       "    <span class=\"k\">return</span> <span class=\"n\">predictions</span><span class=\"p\">[</span><span class=\"s1\">&#39;predicted_churn&#39;</span><span class=\"p\">]</span>\n",
       "<span class=\"k\">def</span> <span class=\"nf\">probabilities</span><span class=\"p\">(</span><span class=\"n\">df</span><span class=\"p\">):</span>\n",
       "    <span class=\"n\">model</span> <span class=\"o\">=</span> <span class=\"n\">load_model</span><span class=\"p\">(</span><span class=\"s1\">&#39;pycaret_model&#39;</span><span class=\"p\">)</span>\n",
       "    <span class=\"n\">predictions</span> <span class=\"o\">=</span> <span class=\"n\">predict_model</span><span class=\"p\">(</span><span class=\"n\">model</span><span class=\"p\">,</span><span class=\"n\">data</span><span class=\"o\">=</span><span class=\"n\">df</span><span class=\"p\">)</span>\n",
       "    <span class=\"k\">return</span> <span class=\"n\">predictions</span><span class=\"p\">[</span><span class=\"s1\">&#39;prediction_score&#39;</span><span class=\"p\">]</span>\n",
       "\n",
       "<span class=\"k\">def</span> <span class=\"nf\">predict_true</span><span class=\"p\">(</span><span class=\"n\">df</span><span class=\"p\">):</span>\n",
       "    <span class=\"n\">model</span> <span class=\"o\">=</span> <span class=\"n\">load_model</span><span class=\"p\">(</span><span class=\"s1\">&#39;pycaret_model&#39;</span><span class=\"p\">)</span>\n",
       "    <span class=\"n\">predictions</span> <span class=\"o\">=</span> <span class=\"n\">predict_model</span><span class=\"p\">(</span><span class=\"n\">model</span><span class=\"p\">,</span> <span class=\"n\">data</span><span class=\"o\">=</span> <span class=\"n\">df</span><span class=\"p\">)</span>\n",
       "    <span class=\"k\">return</span> <span class=\"n\">predictions</span><span class=\"p\">[</span><span class=\"s1\">&#39;prediction_label&#39;</span><span class=\"p\">]</span>\n",
       "\n",
       "\n",
       "<span class=\"k\">if</span> <span class=\"vm\">__name__</span><span class=\"o\">==</span><span class=\"s1\">&#39;__main__&#39;</span><span class=\"p\">:</span>\n",
       "    <span class=\"n\">file_name</span> <span class=\"o\">=</span> <span class=\"nb\">input</span><span class=\"p\">(</span><span class=\"s2\">&quot;Give a file name:&quot;</span><span class=\"p\">)</span>\n",
       "    <span class=\"n\">df</span> <span class=\"o\">=</span> <span class=\"n\">load_data</span><span class=\"p\">(</span><span class=\"n\">file_name</span><span class=\"p\">)</span>\n",
       "    <span class=\"nb\">print</span><span class=\"p\">()</span>\n",
       "    <span class=\"nb\">print</span><span class=\"p\">(</span><span class=\"s2\">&quot;predictions&quot;</span><span class=\"p\">)</span>\n",
       "    <span class=\"nb\">print</span><span class=\"p\">(</span><span class=\"sa\">f</span><span class=\"s1\">&#39;output: </span><span class=\"si\">{</span><span class=\"n\">make_predictions</span><span class=\"p\">(</span><span class=\"n\">df</span><span class=\"p\">)</span><span class=\"si\">}</span><span class=\"s1\">&#39;</span><span class=\"p\">)</span>\n",
       "    <span class=\"nb\">print</span><span class=\"p\">()</span>\n",
       "    <span class=\"nb\">print</span><span class=\"p\">(</span><span class=\"s2\">&quot;Probabilities&quot;</span><span class=\"p\">)</span>\n",
       "    <span class=\"nb\">print</span><span class=\"p\">(</span><span class=\"sa\">f</span><span class=\"s1\">&#39;probability: </span><span class=\"si\">{</span><span class=\"n\">probabilities</span><span class=\"p\">(</span><span class=\"n\">df</span><span class=\"p\">)</span><span class=\"si\">}</span><span class=\"s1\">&#39;</span><span class=\"p\">)</span>\n",
       "    <span class=\"nb\">print</span><span class=\"p\">()</span>\n",
       "    <span class=\"nb\">print</span><span class=\"p\">(</span><span class=\"s2\">&quot;True_values&quot;</span><span class=\"p\">)</span>\n",
       "    <span class=\"nb\">print</span><span class=\"p\">(</span><span class=\"n\">predict_true</span><span class=\"p\">(</span><span class=\"n\">df</span><span class=\"p\">))</span>\n",
       "    \n",
       "</pre></div>\n"
      ],
      "text/latex": [
       "\\begin{Verbatim}[commandchars=\\\\\\{\\}]\n",
       "\\PY{k+kn}{import} \\PY{n+nn}{pandas} \\PY{k}{as} \\PY{n+nn}{pd}\n",
       "\\PY{k+kn}{from} \\PY{n+nn}{pycaret}\\PY{n+nn}{.}\\PY{n+nn}{classification} \\PY{k+kn}{import} \\PY{n}{predict\\PYZus{}model}\\PY{p}{,} \\PY{n}{load\\PYZus{}model}\n",
       "\n",
       "\\PY{k}{def} \\PY{n+nf}{load\\PYZus{}data}\\PY{p}{(}\\PY{n}{file\\PYZus{}path}\\PY{p}{)}\\PY{p}{:}\n",
       "    \\PY{n}{df} \\PY{o}{=} \\PY{n}{pd}\\PY{o}{.}\\PY{n}{read\\PYZus{}csv}\\PY{p}{(}\\PY{n}{file\\PYZus{}path}\\PY{p}{,} \\PY{n}{index\\PYZus{}col} \\PY{o}{=} \\PY{l+s+s1}{\\PYZsq{}}\\PY{l+s+s1}{customerID}\\PY{l+s+s1}{\\PYZsq{}}\\PY{p}{)}\n",
       "    \\PY{k}{return} \\PY{n}{df}\n",
       "\n",
       "\\PY{k}{def} \\PY{n+nf}{make\\PYZus{}predictions}\\PY{p}{(}\\PY{n}{df}\\PY{p}{)}\\PY{p}{:}\n",
       "    \\PY{n}{model} \\PY{o}{=} \\PY{n}{load\\PYZus{}model}\\PY{p}{(}\\PY{l+s+s1}{\\PYZsq{}}\\PY{l+s+s1}{pycaret\\PYZus{}model}\\PY{l+s+s1}{\\PYZsq{}}\\PY{p}{)}\n",
       "    \\PY{n}{predictions} \\PY{o}{=} \\PY{n}{predict\\PYZus{}model}\\PY{p}{(}\\PY{n}{model}\\PY{p}{,} \\PY{n}{data}\\PY{o}{=} \\PY{n}{df}\\PY{p}{)}\n",
       "    \\PY{n}{predictions}\\PY{o}{.}\\PY{n}{rename}\\PY{p}{(}\\PY{p}{\\PYZob{}}\\PY{l+s+s1}{\\PYZsq{}}\\PY{l+s+s1}{prediction\\PYZus{}label}\\PY{l+s+s1}{\\PYZsq{}}\\PY{p}{:}\\PY{l+s+s1}{\\PYZsq{}}\\PY{l+s+s1}{predicted\\PYZus{}churn}\\PY{l+s+s1}{\\PYZsq{}}\\PY{p}{\\PYZcb{}}\\PY{p}{,} \\PY{n}{axis}\\PY{o}{=}\\PY{l+m+mi}{1}\\PY{p}{,} \\PY{n}{inplace} \\PY{o}{=} \\PY{k+kc}{True}\\PY{p}{)}\n",
       "    \\PY{n}{predictions}\\PY{p}{[}\\PY{l+s+s1}{\\PYZsq{}}\\PY{l+s+s1}{predicted\\PYZus{}churn}\\PY{l+s+s1}{\\PYZsq{}}\\PY{p}{]}\\PY{o}{.}\\PY{n}{replace}\\PY{p}{(}\\PY{p}{\\PYZob{}}\\PY{l+m+mi}{0}\\PY{p}{:}\\PY{l+s+s1}{\\PYZsq{}}\\PY{l+s+s1}{No Churn}\\PY{l+s+s1}{\\PYZsq{}}\\PY{p}{,} \\PY{l+m+mi}{1}\\PY{p}{:}\\PY{l+s+s1}{\\PYZsq{}}\\PY{l+s+s1}{Churn}\\PY{l+s+s1}{\\PYZsq{}}\\PY{p}{\\PYZcb{}}\\PY{p}{,} \\PY{n}{inplace} \\PY{o}{=} \\PY{k+kc}{True}\\PY{p}{)}\n",
       "    \\PY{k}{return} \\PY{n}{predictions}\\PY{p}{[}\\PY{l+s+s1}{\\PYZsq{}}\\PY{l+s+s1}{predicted\\PYZus{}churn}\\PY{l+s+s1}{\\PYZsq{}}\\PY{p}{]}\n",
       "\\PY{k}{def} \\PY{n+nf}{probabilities}\\PY{p}{(}\\PY{n}{df}\\PY{p}{)}\\PY{p}{:}\n",
       "    \\PY{n}{model} \\PY{o}{=} \\PY{n}{load\\PYZus{}model}\\PY{p}{(}\\PY{l+s+s1}{\\PYZsq{}}\\PY{l+s+s1}{pycaret\\PYZus{}model}\\PY{l+s+s1}{\\PYZsq{}}\\PY{p}{)}\n",
       "    \\PY{n}{predictions} \\PY{o}{=} \\PY{n}{predict\\PYZus{}model}\\PY{p}{(}\\PY{n}{model}\\PY{p}{,}\\PY{n}{data}\\PY{o}{=}\\PY{n}{df}\\PY{p}{)}\n",
       "    \\PY{k}{return} \\PY{n}{predictions}\\PY{p}{[}\\PY{l+s+s1}{\\PYZsq{}}\\PY{l+s+s1}{prediction\\PYZus{}score}\\PY{l+s+s1}{\\PYZsq{}}\\PY{p}{]}\n",
       "\n",
       "\\PY{k}{def} \\PY{n+nf}{predict\\PYZus{}true}\\PY{p}{(}\\PY{n}{df}\\PY{p}{)}\\PY{p}{:}\n",
       "    \\PY{n}{model} \\PY{o}{=} \\PY{n}{load\\PYZus{}model}\\PY{p}{(}\\PY{l+s+s1}{\\PYZsq{}}\\PY{l+s+s1}{pycaret\\PYZus{}model}\\PY{l+s+s1}{\\PYZsq{}}\\PY{p}{)}\n",
       "    \\PY{n}{predictions} \\PY{o}{=} \\PY{n}{predict\\PYZus{}model}\\PY{p}{(}\\PY{n}{model}\\PY{p}{,} \\PY{n}{data}\\PY{o}{=} \\PY{n}{df}\\PY{p}{)}\n",
       "    \\PY{k}{return} \\PY{n}{predictions}\\PY{p}{[}\\PY{l+s+s1}{\\PYZsq{}}\\PY{l+s+s1}{prediction\\PYZus{}label}\\PY{l+s+s1}{\\PYZsq{}}\\PY{p}{]}\n",
       "\n",
       "\n",
       "\\PY{k}{if} \\PY{n+nv+vm}{\\PYZus{}\\PYZus{}name\\PYZus{}\\PYZus{}}\\PY{o}{==}\\PY{l+s+s1}{\\PYZsq{}}\\PY{l+s+s1}{\\PYZus{}\\PYZus{}main\\PYZus{}\\PYZus{}}\\PY{l+s+s1}{\\PYZsq{}}\\PY{p}{:}\n",
       "    \\PY{n}{file\\PYZus{}name} \\PY{o}{=} \\PY{n+nb}{input}\\PY{p}{(}\\PY{l+s+s2}{\\PYZdq{}}\\PY{l+s+s2}{Give a file name:}\\PY{l+s+s2}{\\PYZdq{}}\\PY{p}{)}\n",
       "    \\PY{n}{df} \\PY{o}{=} \\PY{n}{load\\PYZus{}data}\\PY{p}{(}\\PY{n}{file\\PYZus{}name}\\PY{p}{)}\n",
       "    \\PY{n+nb}{print}\\PY{p}{(}\\PY{p}{)}\n",
       "    \\PY{n+nb}{print}\\PY{p}{(}\\PY{l+s+s2}{\\PYZdq{}}\\PY{l+s+s2}{predictions}\\PY{l+s+s2}{\\PYZdq{}}\\PY{p}{)}\n",
       "    \\PY{n+nb}{print}\\PY{p}{(}\\PY{l+s+sa}{f}\\PY{l+s+s1}{\\PYZsq{}}\\PY{l+s+s1}{output: }\\PY{l+s+si}{\\PYZob{}}\\PY{n}{make\\PYZus{}predictions}\\PY{p}{(}\\PY{n}{df}\\PY{p}{)}\\PY{l+s+si}{\\PYZcb{}}\\PY{l+s+s1}{\\PYZsq{}}\\PY{p}{)}\n",
       "    \\PY{n+nb}{print}\\PY{p}{(}\\PY{p}{)}\n",
       "    \\PY{n+nb}{print}\\PY{p}{(}\\PY{l+s+s2}{\\PYZdq{}}\\PY{l+s+s2}{Probabilities}\\PY{l+s+s2}{\\PYZdq{}}\\PY{p}{)}\n",
       "    \\PY{n+nb}{print}\\PY{p}{(}\\PY{l+s+sa}{f}\\PY{l+s+s1}{\\PYZsq{}}\\PY{l+s+s1}{probability: }\\PY{l+s+si}{\\PYZob{}}\\PY{n}{probabilities}\\PY{p}{(}\\PY{n}{df}\\PY{p}{)}\\PY{l+s+si}{\\PYZcb{}}\\PY{l+s+s1}{\\PYZsq{}}\\PY{p}{)}\n",
       "    \\PY{n+nb}{print}\\PY{p}{(}\\PY{p}{)}\n",
       "    \\PY{n+nb}{print}\\PY{p}{(}\\PY{l+s+s2}{\\PYZdq{}}\\PY{l+s+s2}{True\\PYZus{}values}\\PY{l+s+s2}{\\PYZdq{}}\\PY{p}{)}\n",
       "    \\PY{n+nb}{print}\\PY{p}{(}\\PY{n}{predict\\PYZus{}true}\\PY{p}{(}\\PY{n}{df}\\PY{p}{)}\\PY{p}{)}\n",
       "    \n",
       "\\end{Verbatim}\n"
      ],
      "text/plain": [
       "import pandas as pd\n",
       "from pycaret.classification import predict_model, load_model\n",
       "\n",
       "def load_data(file_path):\n",
       "    df = pd.read_csv(file_path, index_col = 'customerID')\n",
       "    return df\n",
       "\n",
       "def make_predictions(df):\n",
       "    model = load_model('pycaret_model')\n",
       "    predictions = predict_model(model, data= df)\n",
       "    predictions.rename({'prediction_label':'predicted_churn'}, axis=1, inplace = True)\n",
       "    predictions['predicted_churn'].replace({0:'No Churn', 1:'Churn'}, inplace = True)\n",
       "    return predictions['predicted_churn']\n",
       "def probabilities(df):\n",
       "    model = load_model('pycaret_model')\n",
       "    predictions = predict_model(model,data=df)\n",
       "    return predictions['prediction_score']\n",
       "\n",
       "def predict_true(df):\n",
       "    model = load_model('pycaret_model')\n",
       "    predictions = predict_model(model, data= df)\n",
       "    return predictions['prediction_label']\n",
       "\n",
       "\n",
       "if __name__=='__main__':\n",
       "    file_name = input(\"Give a file name:\")\n",
       "    df = load_data(file_name)\n",
       "    print()\n",
       "    print(\"predictions\")\n",
       "    print(f'output: {make_predictions(df)}')\n",
       "    print()\n",
       "    print(\"Probabilities\")\n",
       "    print(f'probability: {probabilities(df)}')\n",
       "    print()\n",
       "    print(\"True_values\")\n",
       "    print(predict_true(df))\n",
       "    "
      ]
     },
     "execution_count": 71,
     "metadata": {},
     "output_type": "execute_result"
    }
   ],
   "source": [
    "from IPython.display import Code\n",
    "\n",
    "Code('predict_Churn_pycaret.py')"
   ]
  },
  {
   "cell_type": "markdown",
   "id": "c5fc1fe2-3f53-4c48-8dc7-41d0870738c5",
   "metadata": {},
   "source": [
    "From the above code, we can explain that our created python module **(predict_Churn_pycaret)** has load_data, make_predictions, probabilities and predict_true functions. Our module also able to load the model using 'load_model' and predict Churn using 'predict_model' of pycaret.\n",
    "\n",
    "load_data(filename) is used to load the data using pandas module.\n",
    "\n",
    "make_predictions(df) is used to make predictions of customer churn using loaded model for the dataframe df.\n",
    "\n",
    "probabilities(df) allows us to find the probabilities of churn for the data df.\n",
    "\n",
    "true_values(df) allows us to find the prediction of churn in numerical labels for the data df.\n",
    "\n",
    "\n",
    "\n"
   ]
  },
  {
   "cell_type": "markdown",
   "id": "0af060d7-be73-4ca7-b72c-18958ffcaa7f",
   "metadata": {},
   "source": [
    "We can test our python module running the file with the Jupyter \"magic\" command %run.\n",
    "\n",
    "our python module will ask for a **filename** as input to predict the churn , finding probabilities and true_labels for the data. "
   ]
  },
  {
   "cell_type": "code",
   "execution_count": 73,
   "id": "c35487a6-4fc3-4bdc-bac9-641641b924f6",
   "metadata": {},
   "outputs": [
    {
     "name": "stdin",
     "output_type": "stream",
     "text": [
      "Give a file name: prepared_churn_data.csv\n"
     ]
    },
    {
     "name": "stdout",
     "output_type": "stream",
     "text": [
      "\n",
      "predictions\n",
      "Transformation Pipeline and Model Successfully Loaded\n",
      "output: customerID\n",
      "7590-VHVEG       Churn\n",
      "5575-GNVDE    No Churn\n",
      "3668-QPYBK    No Churn\n",
      "7795-CFOCW    No Churn\n",
      "9237-HQITU       Churn\n",
      "                ...   \n",
      "6840-RESVB    No Churn\n",
      "2234-XADUH    No Churn\n",
      "4801-JZAZL    No Churn\n",
      "8361-LTMKD       Churn\n",
      "3186-AJIEK    No Churn\n",
      "Name: predicted_churn, Length: 7043, dtype: object\n",
      "\n",
      "Probabilities\n",
      "Transformation Pipeline and Model Successfully Loaded\n",
      "probability: customerID\n",
      "7590-VHVEG    0.5559\n",
      "5575-GNVDE    0.9347\n",
      "3668-QPYBK    0.5679\n",
      "7795-CFOCW    0.9220\n",
      "9237-HQITU    0.5758\n",
      "               ...  \n",
      "6840-RESVB    0.8786\n",
      "2234-XADUH    0.8865\n",
      "4801-JZAZL    0.7189\n",
      "8361-LTMKD    0.6208\n",
      "3186-AJIEK    0.9292\n",
      "Name: prediction_score, Length: 7043, dtype: float64\n",
      "\n",
      "True_values\n",
      "Transformation Pipeline and Model Successfully Loaded\n",
      "customerID\n",
      "7590-VHVEG    1\n",
      "5575-GNVDE    0\n",
      "3668-QPYBK    0\n",
      "7795-CFOCW    0\n",
      "9237-HQITU    1\n",
      "             ..\n",
      "6840-RESVB    0\n",
      "2234-XADUH    0\n",
      "4801-JZAZL    0\n",
      "8361-LTMKD    1\n",
      "3186-AJIEK    0\n",
      "Name: prediction_label, Length: 7043, dtype: int32\n"
     ]
    }
   ],
   "source": [
    "%run predict_Churn_pycaret.py"
   ]
  },
  {
   "cell_type": "markdown",
   "id": "dd491ae3-d26d-4236-ba9d-58797d78c8ef",
   "metadata": {},
   "source": [
    "# Finding predictions for \"new_churn_data.csv\":"
   ]
  },
  {
   "cell_type": "markdown",
   "id": "6fade5c8-be67-40ca-80b0-bda0430206d7",
   "metadata": {},
   "source": [
    "To find the predicions for the new_churn_data using our created model, First we should import our predict_Churn_pycartet module then we are able to use the functions of the predict_Churn_pycaret module. "
   ]
  },
  {
   "cell_type": "code",
   "execution_count": 74,
   "id": "0a36adee-cf1b-4e19-9825-f99ab52aef7f",
   "metadata": {},
   "outputs": [
    {
     "data": {
      "text/html": [
       "<div>\n",
       "<style scoped>\n",
       "    .dataframe tbody tr th:only-of-type {\n",
       "        vertical-align: middle;\n",
       "    }\n",
       "\n",
       "    .dataframe tbody tr th {\n",
       "        vertical-align: top;\n",
       "    }\n",
       "\n",
       "    .dataframe thead th {\n",
       "        text-align: right;\n",
       "    }\n",
       "</style>\n",
       "<table border=\"1\" class=\"dataframe\">\n",
       "  <thead>\n",
       "    <tr style=\"text-align: right;\">\n",
       "      <th></th>\n",
       "      <th>tenure</th>\n",
       "      <th>PhoneService</th>\n",
       "      <th>Contract</th>\n",
       "      <th>PaymentMethod</th>\n",
       "      <th>MonthlyCharges</th>\n",
       "      <th>TotalCharges</th>\n",
       "      <th>charge_per_tenure</th>\n",
       "    </tr>\n",
       "    <tr>\n",
       "      <th>customerID</th>\n",
       "      <th></th>\n",
       "      <th></th>\n",
       "      <th></th>\n",
       "      <th></th>\n",
       "      <th></th>\n",
       "      <th></th>\n",
       "      <th></th>\n",
       "    </tr>\n",
       "  </thead>\n",
       "  <tbody>\n",
       "    <tr>\n",
       "      <th>9305-CKSKC</th>\n",
       "      <td>22</td>\n",
       "      <td>1</td>\n",
       "      <td>0</td>\n",
       "      <td>2</td>\n",
       "      <td>97.40</td>\n",
       "      <td>811.70</td>\n",
       "      <td>36.895455</td>\n",
       "    </tr>\n",
       "    <tr>\n",
       "      <th>1452-KNGVK</th>\n",
       "      <td>8</td>\n",
       "      <td>0</td>\n",
       "      <td>1</td>\n",
       "      <td>1</td>\n",
       "      <td>77.30</td>\n",
       "      <td>1701.95</td>\n",
       "      <td>212.743750</td>\n",
       "    </tr>\n",
       "    <tr>\n",
       "      <th>6723-OKKJM</th>\n",
       "      <td>28</td>\n",
       "      <td>1</td>\n",
       "      <td>0</td>\n",
       "      <td>0</td>\n",
       "      <td>28.25</td>\n",
       "      <td>250.90</td>\n",
       "      <td>8.960714</td>\n",
       "    </tr>\n",
       "    <tr>\n",
       "      <th>7832-POPKP</th>\n",
       "      <td>62</td>\n",
       "      <td>1</td>\n",
       "      <td>0</td>\n",
       "      <td>2</td>\n",
       "      <td>101.70</td>\n",
       "      <td>3106.56</td>\n",
       "      <td>50.105806</td>\n",
       "    </tr>\n",
       "    <tr>\n",
       "      <th>6348-TACGU</th>\n",
       "      <td>10</td>\n",
       "      <td>0</td>\n",
       "      <td>0</td>\n",
       "      <td>1</td>\n",
       "      <td>51.15</td>\n",
       "      <td>3440.97</td>\n",
       "      <td>344.097000</td>\n",
       "    </tr>\n",
       "  </tbody>\n",
       "</table>\n",
       "</div>"
      ],
      "text/plain": [
       "            tenure  PhoneService  Contract  PaymentMethod  MonthlyCharges  \\\n",
       "customerID                                                                  \n",
       "9305-CKSKC      22             1         0              2           97.40   \n",
       "1452-KNGVK       8             0         1              1           77.30   \n",
       "6723-OKKJM      28             1         0              0           28.25   \n",
       "7832-POPKP      62             1         0              2          101.70   \n",
       "6348-TACGU      10             0         0              1           51.15   \n",
       "\n",
       "            TotalCharges  charge_per_tenure  \n",
       "customerID                                   \n",
       "9305-CKSKC        811.70          36.895455  \n",
       "1452-KNGVK       1701.95         212.743750  \n",
       "6723-OKKJM        250.90           8.960714  \n",
       "7832-POPKP       3106.56          50.105806  \n",
       "6348-TACGU       3440.97         344.097000  "
      ]
     },
     "execution_count": 74,
     "metadata": {},
     "output_type": "execute_result"
    }
   ],
   "source": [
    "import predict_Churn_pycaret as pych\n",
    "# loading the dataframe \"new_churn_data.csv\"\n",
    "new_churn_data = pych.load_data(r\"C:\\Users\\santh\\Downloads\\new_churn_data.csv\")\n",
    "new_churn_data"
   ]
  },
  {
   "cell_type": "code",
   "execution_count": 75,
   "id": "8412e6ed-7723-4c30-9b79-cd569789240e",
   "metadata": {},
   "outputs": [
    {
     "name": "stdout",
     "output_type": "stream",
     "text": [
      "Transformation Pipeline and Model Successfully Loaded\n"
     ]
    },
    {
     "data": {
      "text/plain": [
       "customerID\n",
       "9305-CKSKC       Churn\n",
       "1452-KNGVK    No Churn\n",
       "6723-OKKJM    No Churn\n",
       "7832-POPKP    No Churn\n",
       "6348-TACGU    No Churn\n",
       "Name: predicted_churn, dtype: object"
      ]
     },
     "execution_count": 75,
     "metadata": {},
     "output_type": "execute_result"
    }
   ],
   "source": [
    "pych.make_predictions(new_churn_data)"
   ]
  },
  {
   "cell_type": "code",
   "execution_count": 76,
   "id": "74b61576-27bd-40d2-af32-46ddbea4f2d3",
   "metadata": {},
   "outputs": [
    {
     "name": "stdout",
     "output_type": "stream",
     "text": [
      "Transformation Pipeline and Model Successfully Loaded\n"
     ]
    },
    {
     "data": {
      "text/plain": [
       "customerID\n",
       "9305-CKSKC    0.5663\n",
       "1452-KNGVK    0.8870\n",
       "6723-OKKJM    0.8259\n",
       "7832-POPKP    0.7775\n",
       "6348-TACGU    0.7076\n",
       "Name: prediction_score, dtype: float64"
      ]
     },
     "execution_count": 76,
     "metadata": {},
     "output_type": "execute_result"
    }
   ],
   "source": [
    "pych.probabilities(new_churn_data)"
   ]
  },
  {
   "cell_type": "code",
   "execution_count": 77,
   "id": "e5317f51-5941-4244-a51a-6512ef5e83c1",
   "metadata": {},
   "outputs": [
    {
     "name": "stdout",
     "output_type": "stream",
     "text": [
      "Transformation Pipeline and Model Successfully Loaded\n"
     ]
    },
    {
     "data": {
      "text/plain": [
       "customerID\n",
       "9305-CKSKC    1\n",
       "1452-KNGVK    0\n",
       "6723-OKKJM    0\n",
       "7832-POPKP    0\n",
       "6348-TACGU    0\n",
       "Name: prediction_label, dtype: int32"
      ]
     },
     "execution_count": 77,
     "metadata": {},
     "output_type": "execute_result"
    }
   ],
   "source": [
    "pych.predict_true(new_churn_data)"
   ]
  },
  {
   "cell_type": "markdown",
   "id": "c2053d6e-d815-4bef-927a-ec863286f819",
   "metadata": {},
   "source": [
    "our model has predicted true values as [1,0,0,0,0] but actual true values for the model are [1,0,0,1,0] . Here, we can observe that our model predicted almost 4 out of 5 are correct, it is around 80% accuracy, which is almost equal to our model accuracy. so, we can consider that our model as a better model. "
   ]
  },
  {
   "cell_type": "markdown",
   "id": "f96319e9-93a2-4f23-a810-5f12f5155975",
   "metadata": {},
   "source": [
    "# Testing python module with new data:"
   ]
  },
  {
   "cell_type": "markdown",
   "id": "8e3a9c99-0440-4ed0-811b-806702f5bb54",
   "metadata": {},
   "source": [
    "We can test our python module running the file with the Jupyter \"magic\" command %run.\n",
    "\n",
    "our python module will ask for a **filename** as input to predict the churn , finding probabilities and true_labels for the data. \n",
    "\n",
    "In this case our file name is **\"new_churn_data.csv\".**"
   ]
  },
  {
   "cell_type": "code",
   "execution_count": 80,
   "id": "1084096f-1ff2-4e9f-bbaa-a65aa7f8c6ef",
   "metadata": {},
   "outputs": [
    {
     "name": "stdin",
     "output_type": "stream",
     "text": [
      "Give a file name: new_churn_data.csv\n"
     ]
    },
    {
     "name": "stdout",
     "output_type": "stream",
     "text": [
      "\n",
      "predictions\n",
      "Transformation Pipeline and Model Successfully Loaded\n",
      "output: customerID\n",
      "9305-CKSKC       Churn\n",
      "1452-KNGVK    No Churn\n",
      "6723-OKKJM    No Churn\n",
      "7832-POPKP    No Churn\n",
      "6348-TACGU    No Churn\n",
      "Name: predicted_churn, dtype: object\n",
      "\n",
      "Probabilities\n",
      "Transformation Pipeline and Model Successfully Loaded\n",
      "probability: customerID\n",
      "9305-CKSKC    0.5663\n",
      "1452-KNGVK    0.8870\n",
      "6723-OKKJM    0.8259\n",
      "7832-POPKP    0.7775\n",
      "6348-TACGU    0.7076\n",
      "Name: prediction_score, dtype: float64\n",
      "\n",
      "True_values\n",
      "Transformation Pipeline and Model Successfully Loaded\n",
      "customerID\n",
      "9305-CKSKC    1\n",
      "1452-KNGVK    0\n",
      "6723-OKKJM    0\n",
      "7832-POPKP    0\n",
      "6348-TACGU    0\n",
      "Name: prediction_label, dtype: int32\n"
     ]
    },
    {
     "data": {
      "text/plain": [
       "<Figure size 800x550 with 0 Axes>"
      ]
     },
     "metadata": {},
     "output_type": "display_data"
    }
   ],
   "source": [
    "%run predict_Churn_pycaret.py\n"
   ]
  },
  {
   "cell_type": "markdown",
   "id": "c49db562",
   "metadata": {},
   "source": [
    "# Summary"
   ]
  },
  {
   "cell_type": "markdown",
   "id": "9533a1cd",
   "metadata": {},
   "source": [
    "Write a short summary of the process and results here."
   ]
  },
  {
   "cell_type": "markdown",
   "id": "57c6afdf-307a-4e99-9228-88a3c35930f9",
   "metadata": {},
   "source": [
    "The main aim of the project is create DS Automation and upload them in GitHUb repository. we  used **pycaret** module for Data Science Automation. Pycaret only supports upto python 3.10 version, but our current version is 3.11. So, to avoid difficulties while running, so we have created a new environment with python 3.10. Next, we created a new automation model \"automl\" using pycaret. We  used setup to create a pipeline and differentiate the target from the data. The compare_model of pycaret allows to get the best_model from the automation. We got Gradient Boosting Classifier(gbc) as our best model, by considering \"accuracy\" as parameter, with a accuracy  of **79.41%**. Then, we evaluated model and plotted the ROC curve for the best_model. Here, we got AUC of 84%. Later, we saved our model as **pycaret_model** and loaded to test for last rows of dataframe.\n",
    "\n",
    "we  created a python module **(predict_Churn_pycaret)** which has load_data, make_predictions, probabilities and predict_true functions. Our module also able to load the pycaret_model using 'load_model' and predict Churn using 'predict_model' of pycaret.We tested  our python module running the prepared_churn_data  with the Jupyter \"magic\" command %run.It gives the output of whether customer is likely to churn or not, and thier churn probabilities and true labels. In order to utilize our developed model to determine the predictions for the new_churn_data, we must  imported  our predict_Churn_pycartet module as pych before using its functions.our model has predicted true values as [1,0,0,0,0] but actual true values for the model are [1,0,0,1,0] . Here, we can observe that our model predicted almost 4 out of 5 are correct, it is around 80% accuracy, which is almost equal to our model accuracy. so, we can consider that our model as a better model. Finally, we have uploaded our entire code into GitHub **MSDMS600-week-5-Assignment**.\n"
   ]
  }
 ],
 "metadata": {
  "kernelspec": {
   "display_name": "Python 3 (ipykernel)",
   "language": "python",
   "name": "python3"
  },
  "language_info": {
   "codemirror_mode": {
    "name": "ipython",
    "version": 3
   },
   "file_extension": ".py",
   "mimetype": "text/x-python",
   "name": "python",
   "nbconvert_exporter": "python",
   "pygments_lexer": "ipython3",
   "version": "3.10.13"
  }
 },
 "nbformat": 4,
 "nbformat_minor": 5
}
